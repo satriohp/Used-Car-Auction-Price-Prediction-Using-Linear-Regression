{
 "cells": [
  {
   "cell_type": "markdown",
   "id": "pqPLxWJX7vYT",
   "metadata": {
    "id": "pqPLxWJX7vYT"
   },
   "source": [
    "# Final Project Rakamin DS#25 - Team CARR-ELO"
   ]
  },
  {
   "cell_type": "markdown",
   "id": "MPoNzyUc8wG_",
   "metadata": {
    "id": "MPoNzyUc8wG_"
   },
   "source": [
    "- Batch     : Data Science 25th\n",
    "- Kelompok  : Kel.5\n",
    "- Dataset   : Car Auction Prices \n",
    "https://www.kaggle.com/datasets/tunguz/used-car-auction-prices "
   ]
  },
  {
   "cell_type": "code",
   "execution_count": 1,
   "id": "RB_1FpwG_7WV",
   "metadata": {
    "colab": {
     "base_uri": "https://localhost:8080/"
    },
    "id": "RB_1FpwG_7WV",
    "outputId": "79d9dada-b923-46c1-faca-32222a105dff"
   },
   "outputs": [
    {
     "name": "stdout",
     "output_type": "stream",
     "text": [
      "Python 3.9.12\n"
     ]
    }
   ],
   "source": [
    "!python --version"
   ]
  },
  {
   "cell_type": "code",
   "execution_count": 2,
   "id": "9ccc63aa-e74f-470b-b78f-158b9dacd0bd",
   "metadata": {
    "id": "9ccc63aa-e74f-470b-b78f-158b9dacd0bd"
   },
   "outputs": [],
   "source": [
    "import numpy as np\n",
    "import pandas as pd\n",
    "import matplotlib.pyplot as plt\n",
    "import seaborn as sns"
   ]
  },
  {
   "cell_type": "markdown",
   "id": "zQd8yXCr84I2",
   "metadata": {
    "id": "zQd8yXCr84I2"
   },
   "source": [
    "Industri mobil bekas merupakan suatu industri yang menarik untuk diamati pertumbuhannya disamping itu harga mobil terus berubah tergantung berbagai faktor. Di bawah ini adalah penjelasan atas fitur/kolom dari data mobil bekas yang paling penting untuk dipahami ketika akan membeli mobil bekas di lelang:\n",
    "\n",
    "- `Year` : Tahun produksi mobil\n",
    "- `Make` : Merk/pabrikan mobil\n",
    "- `Model` : Model/jenis mobil dari brand tertentu. cth: avanza, innova, mobilio, dll\n",
    "- `Trim` : Jenis mobil berbeda dari model brand tertentu\n",
    "- `Body` : Tipe/Jenis dari mobil cth: sedan, suv, dll\n",
    "- `Transmission` : Jenis transmisi dari mobil yaitu manual dan automatic\n",
    "- `VIN` : Vehicle identification number/Plat Nomor Mobil\n",
    "- `State` : Daerah dimana mobil dilelang\n",
    "- `Condition` : Kondisi mobil saat dilakukan lelang mulai dari 1 - 5\n",
    "- `Odometer` : Jarak tempuh dari mobil sejak keluar pabrik\n",
    "- `Color` : Warna exterior mobil\n",
    "- `Interior` : Warna interior mobil\n",
    "- `Seller` : Penjual mobil/dealer\n",
    "- `mmr` : Manhiem market record/harga estimasi market price\n",
    "- `sellingprice` : Harga mobil yang terjual pada saat lelang\n",
    "- `saledate` : tanggal mobil terjual di lelang"
   ]
  },
  {
   "cell_type": "code",
   "execution_count": 3,
   "id": "8MotZT9G5-78",
   "metadata": {
    "colab": {
     "base_uri": "https://localhost:8080/",
     "height": 1000
    },
    "id": "8MotZT9G5-78",
    "outputId": "07f6a489-0626-4304-e8dd-31ef0115427a"
   },
   "outputs": [
    {
     "data": {
      "text/html": [
       "<div>\n",
       "<style scoped>\n",
       "    .dataframe tbody tr th:only-of-type {\n",
       "        vertical-align: middle;\n",
       "    }\n",
       "\n",
       "    .dataframe tbody tr th {\n",
       "        vertical-align: top;\n",
       "    }\n",
       "\n",
       "    .dataframe thead th {\n",
       "        text-align: right;\n",
       "    }\n",
       "</style>\n",
       "<table border=\"1\" class=\"dataframe\">\n",
       "  <thead>\n",
       "    <tr style=\"text-align: right;\">\n",
       "      <th></th>\n",
       "      <th>year</th>\n",
       "      <th>make</th>\n",
       "      <th>model</th>\n",
       "      <th>trim</th>\n",
       "      <th>body</th>\n",
       "      <th>transmission</th>\n",
       "      <th>vin</th>\n",
       "      <th>state</th>\n",
       "      <th>condition</th>\n",
       "      <th>odometer</th>\n",
       "      <th>color</th>\n",
       "      <th>interior</th>\n",
       "      <th>seller</th>\n",
       "      <th>mmr</th>\n",
       "      <th>sellingprice</th>\n",
       "      <th>saledate</th>\n",
       "    </tr>\n",
       "  </thead>\n",
       "  <tbody>\n",
       "    <tr>\n",
       "      <th>0</th>\n",
       "      <td>2015</td>\n",
       "      <td>Kia</td>\n",
       "      <td>Sorento</td>\n",
       "      <td>LX</td>\n",
       "      <td>SUV</td>\n",
       "      <td>automatic</td>\n",
       "      <td>5xyktca69fg566472</td>\n",
       "      <td>ca</td>\n",
       "      <td>5.0</td>\n",
       "      <td>16639.0</td>\n",
       "      <td>white</td>\n",
       "      <td>black</td>\n",
       "      <td>kia motors america, inc</td>\n",
       "      <td>20500</td>\n",
       "      <td>21500</td>\n",
       "      <td>Tue Dec 16 2014 12:30:00 GMT-0800 (PST)</td>\n",
       "    </tr>\n",
       "    <tr>\n",
       "      <th>1</th>\n",
       "      <td>2015</td>\n",
       "      <td>Kia</td>\n",
       "      <td>Sorento</td>\n",
       "      <td>LX</td>\n",
       "      <td>SUV</td>\n",
       "      <td>automatic</td>\n",
       "      <td>5xyktca69fg561319</td>\n",
       "      <td>ca</td>\n",
       "      <td>5.0</td>\n",
       "      <td>9393.0</td>\n",
       "      <td>white</td>\n",
       "      <td>beige</td>\n",
       "      <td>kia motors america, inc</td>\n",
       "      <td>20800</td>\n",
       "      <td>21500</td>\n",
       "      <td>Tue Dec 16 2014 12:30:00 GMT-0800 (PST)</td>\n",
       "    </tr>\n",
       "    <tr>\n",
       "      <th>2</th>\n",
       "      <td>2014</td>\n",
       "      <td>BMW</td>\n",
       "      <td>3 Series</td>\n",
       "      <td>328i SULEV</td>\n",
       "      <td>Sedan</td>\n",
       "      <td>automatic</td>\n",
       "      <td>wba3c1c51ek116351</td>\n",
       "      <td>ca</td>\n",
       "      <td>4.5</td>\n",
       "      <td>1331.0</td>\n",
       "      <td>gray</td>\n",
       "      <td>black</td>\n",
       "      <td>financial services remarketing (lease)</td>\n",
       "      <td>31900</td>\n",
       "      <td>30000</td>\n",
       "      <td>Thu Jan 15 2015 04:30:00 GMT-0800 (PST)</td>\n",
       "    </tr>\n",
       "    <tr>\n",
       "      <th>3</th>\n",
       "      <td>2015</td>\n",
       "      <td>Volvo</td>\n",
       "      <td>S60</td>\n",
       "      <td>T5</td>\n",
       "      <td>Sedan</td>\n",
       "      <td>automatic</td>\n",
       "      <td>yv1612tb4f1310987</td>\n",
       "      <td>ca</td>\n",
       "      <td>4.1</td>\n",
       "      <td>14282.0</td>\n",
       "      <td>white</td>\n",
       "      <td>black</td>\n",
       "      <td>volvo na rep/world omni</td>\n",
       "      <td>27500</td>\n",
       "      <td>27750</td>\n",
       "      <td>Thu Jan 29 2015 04:30:00 GMT-0800 (PST)</td>\n",
       "    </tr>\n",
       "    <tr>\n",
       "      <th>4</th>\n",
       "      <td>2014</td>\n",
       "      <td>BMW</td>\n",
       "      <td>6 Series Gran Coupe</td>\n",
       "      <td>650i</td>\n",
       "      <td>Sedan</td>\n",
       "      <td>automatic</td>\n",
       "      <td>wba6b2c57ed129731</td>\n",
       "      <td>ca</td>\n",
       "      <td>4.3</td>\n",
       "      <td>2641.0</td>\n",
       "      <td>gray</td>\n",
       "      <td>black</td>\n",
       "      <td>financial services remarketing (lease)</td>\n",
       "      <td>66000</td>\n",
       "      <td>67000</td>\n",
       "      <td>Thu Dec 18 2014 12:30:00 GMT-0800 (PST)</td>\n",
       "    </tr>\n",
       "  </tbody>\n",
       "</table>\n",
       "</div>"
      ],
      "text/plain": [
       "   year   make                model        trim   body transmission  \\\n",
       "0  2015    Kia              Sorento          LX    SUV    automatic   \n",
       "1  2015    Kia              Sorento          LX    SUV    automatic   \n",
       "2  2014    BMW             3 Series  328i SULEV  Sedan    automatic   \n",
       "3  2015  Volvo                  S60          T5  Sedan    automatic   \n",
       "4  2014    BMW  6 Series Gran Coupe        650i  Sedan    automatic   \n",
       "\n",
       "                 vin state  condition  odometer  color interior  \\\n",
       "0  5xyktca69fg566472    ca        5.0   16639.0  white    black   \n",
       "1  5xyktca69fg561319    ca        5.0    9393.0  white    beige   \n",
       "2  wba3c1c51ek116351    ca        4.5    1331.0   gray    black   \n",
       "3  yv1612tb4f1310987    ca        4.1   14282.0  white    black   \n",
       "4  wba6b2c57ed129731    ca        4.3    2641.0   gray    black   \n",
       "\n",
       "                                   seller    mmr  sellingprice  \\\n",
       "0                 kia motors america, inc  20500         21500   \n",
       "1                 kia motors america, inc  20800         21500   \n",
       "2  financial services remarketing (lease)  31900         30000   \n",
       "3                 volvo na rep/world omni  27500         27750   \n",
       "4  financial services remarketing (lease)  66000         67000   \n",
       "\n",
       "                                  saledate  \n",
       "0  Tue Dec 16 2014 12:30:00 GMT-0800 (PST)  \n",
       "1  Tue Dec 16 2014 12:30:00 GMT-0800 (PST)  \n",
       "2  Thu Jan 15 2015 04:30:00 GMT-0800 (PST)  \n",
       "3  Thu Jan 29 2015 04:30:00 GMT-0800 (PST)  \n",
       "4  Thu Dec 18 2014 12:30:00 GMT-0800 (PST)  "
      ]
     },
     "execution_count": 3,
     "metadata": {},
     "output_type": "execute_result"
    }
   ],
   "source": [
    "df = pd.read_csv('C:/Users/satri/Documents/DS-Rakamin/Final Project/1/archive/car_prices.csv', on_bad_lines='skip')\n",
    "df.head()"
   ]
  },
  {
   "cell_type": "code",
   "execution_count": null,
   "id": "tIw5CtW7n1kQ",
   "metadata": {
    "colab": {
     "base_uri": "https://localhost:8080/"
    },
    "id": "tIw5CtW7n1kQ",
    "outputId": "097f6351-3909-438a-e243-a25214ee82f7"
   },
   "outputs": [
    {
     "name": "stdout",
     "output_type": "stream",
     "text": [
      "Mounted at /content/drive\n"
     ]
    }
   ],
   "source": [
    "from google.colab import drive\n",
    "drive.mount('/content/drive')"
   ]
  },
  {
   "cell_type": "markdown",
   "id": "3c965af7-041a-43a6-b767-71f038530a28",
   "metadata": {
    "id": "3c965af7-041a-43a6-b767-71f038530a28"
   },
   "source": [
    "# **Stage 1 : EDA, Insights, & Visualization**"
   ]
  },
  {
   "cell_type": "markdown",
   "id": "_wOCt-XX8MNH",
   "metadata": {
    "id": "_wOCt-XX8MNH"
   },
   "source": [
    "## Part 1.1 - Descriptive Statistics"
   ]
  },
  {
   "cell_type": "code",
   "execution_count": null,
   "id": "92Vb7GKf8ZA6",
   "metadata": {
    "colab": {
     "base_uri": "https://localhost:8080/"
    },
    "id": "92Vb7GKf8ZA6",
    "outputId": "9da01809-6781-48ef-f5ec-9ebd0c93e091"
   },
   "outputs": [
    {
     "name": "stdout",
     "output_type": "stream",
     "text": [
      "<class 'pandas.core.frame.DataFrame'>\n",
      "RangeIndex: 558837 entries, 0 to 558836\n",
      "Data columns (total 16 columns):\n",
      " #   Column        Non-Null Count   Dtype  \n",
      "---  ------        --------------   -----  \n",
      " 0   year          558837 non-null  int64  \n",
      " 1   make          548536 non-null  object \n",
      " 2   model         548438 non-null  object \n",
      " 3   trim          548186 non-null  object \n",
      " 4   body          545642 non-null  object \n",
      " 5   transmission  493484 non-null  object \n",
      " 6   vin           558833 non-null  object \n",
      " 7   state         558837 non-null  object \n",
      " 8   condition     547043 non-null  object \n",
      " 9   odometer      558743 non-null  float64\n",
      " 10  color         558088 non-null  object \n",
      " 11  interior      558088 non-null  object \n",
      " 12  seller        558837 non-null  object \n",
      " 13  mmr           558837 non-null  object \n",
      " 14  sellingprice  558837 non-null  object \n",
      " 15  saledate      558837 non-null  object \n",
      "dtypes: float64(1), int64(1), object(14)\n",
      "memory usage: 68.2+ MB\n"
     ]
    }
   ],
   "source": [
    "df.info()"
   ]
  },
  {
   "cell_type": "code",
   "execution_count": null,
   "id": "J3z8GBWaGRum",
   "metadata": {
    "colab": {
     "base_uri": "https://localhost:8080/"
    },
    "id": "J3z8GBWaGRum",
    "outputId": "a7a6f9a5-b2c9-43aa-8a78-4f7df8a2d349"
   },
   "outputs": [
    {
     "data": {
      "text/plain": [
       "transmission    65353\n",
       "body            13195\n",
       "condition       11794\n",
       "trim            10651\n",
       "model           10399\n",
       "make            10301\n",
       "color             749\n",
       "interior          749\n",
       "odometer           94\n",
       "vin                 4\n",
       "year                0\n",
       "state               0\n",
       "seller              0\n",
       "mmr                 0\n",
       "sellingprice        0\n",
       "saledate            0\n",
       "dtype: int64"
      ]
     },
     "execution_count": 9,
     "metadata": {},
     "output_type": "execute_result"
    }
   ],
   "source": [
    "df.isnull().sum().sort_values(ascending = False)"
   ]
  },
  {
   "cell_type": "markdown",
   "id": "WcN6cPRzGahd",
   "metadata": {
    "id": "WcN6cPRzGahd"
   },
   "source": [
    "Terdapat kolom yang memiliki missing value, antara lain:\n",
    " - make\n",
    " - model\n",
    " - trim\n",
    " - body\n",
    " - transmission \n",
    " - vin\n",
    " - condition\n",
    " - odometer\n",
    " - color\n",
    " - interior\n",
    "\n",
    "kolom yang memiliki missing value terbanyak ada di kolom transmisson"
   ]
  },
  {
   "cell_type": "code",
   "execution_count": null,
   "id": "UdxmWhBpFyMC",
   "metadata": {
    "colab": {
     "base_uri": "https://localhost:8080/"
    },
    "id": "UdxmWhBpFyMC",
    "outputId": "af4cc883-4e7d-4bd0-ba2e-89243ac31486"
   },
   "outputs": [
    {
     "data": {
      "text/plain": [
       "False"
      ]
     },
     "execution_count": 10,
     "metadata": {},
     "output_type": "execute_result"
    }
   ],
   "source": [
    "df.duplicated().any()"
   ]
  },
  {
   "cell_type": "markdown",
   "id": "q_1EgkWBF3yB",
   "metadata": {
    "id": "q_1EgkWBF3yB"
   },
   "source": [
    "Tidak ada data yang duplikat di dalam dataset"
   ]
  },
  {
   "cell_type": "code",
   "execution_count": null,
   "id": "777231f6-2818-4f58-83c5-ebe910c3c6c0",
   "metadata": {
    "id": "777231f6-2818-4f58-83c5-ebe910c3c6c0"
   },
   "outputs": [],
   "source": [
    "#  kategorisasi\n",
    "nums = ['year', 'condition', 'odometer', 'mmr', 'sellingprice']\n",
    "cats = ['make','model', 'body', 'transmission', 'trim', 'vin', 'state','color', 'interior', 'seller', 'saledate']"
   ]
  },
  {
   "cell_type": "markdown",
   "id": "U-1NfZznF1t2",
   "metadata": {
    "id": "U-1NfZznF1t2"
   },
   "source": []
  },
  {
   "cell_type": "markdown",
   "id": "NqhC6va3CCi4",
   "metadata": {
    "id": "NqhC6va3CCi4"
   },
   "source": [
    "### Fitur Deskriptif"
   ]
  },
  {
   "cell_type": "code",
   "execution_count": null,
   "id": "0BErSpvzByLm",
   "metadata": {
    "colab": {
     "base_uri": "https://localhost:8080/"
    },
    "id": "0BErSpvzByLm",
    "outputId": "cfa978fd-cf93-44c3-985b-35e871371188"
   },
   "outputs": [
    {
     "name": "stdout",
     "output_type": "stream",
     "text": [
      "<class 'pandas.core.frame.DataFrame'>\n",
      "RangeIndex: 558837 entries, 0 to 558836\n",
      "Data columns (total 5 columns):\n",
      " #   Column        Non-Null Count   Dtype  \n",
      "---  ------        --------------   -----  \n",
      " 0   year          558837 non-null  int64  \n",
      " 1   condition     547043 non-null  object \n",
      " 2   odometer      558743 non-null  float64\n",
      " 3   mmr           558837 non-null  object \n",
      " 4   sellingprice  558837 non-null  int64  \n",
      "dtypes: float64(1), int64(2), object(2)\n",
      "memory usage: 21.3+ MB\n"
     ]
    }
   ],
   "source": [
    "df[nums].info()"
   ]
  },
  {
   "cell_type": "code",
   "execution_count": null,
   "id": "83f6cc2a-fa09-4229-9c89-c65fab40d99a",
   "metadata": {
    "colab": {
     "base_uri": "https://localhost:8080/",
     "height": 300
    },
    "id": "83f6cc2a-fa09-4229-9c89-c65fab40d99a",
    "outputId": "9818ec08-8dab-4e2e-8bef-9c5b2621271c"
   },
   "outputs": [
    {
     "data": {
      "text/html": [
       "\n",
       "  <div id=\"df-843b8351-67a8-40e6-8ec2-3fe47fe5cfff\">\n",
       "    <div class=\"colab-df-container\">\n",
       "      <div>\n",
       "<style scoped>\n",
       "    .dataframe tbody tr th:only-of-type {\n",
       "        vertical-align: middle;\n",
       "    }\n",
       "\n",
       "    .dataframe tbody tr th {\n",
       "        vertical-align: top;\n",
       "    }\n",
       "\n",
       "    .dataframe thead th {\n",
       "        text-align: right;\n",
       "    }\n",
       "</style>\n",
       "<table border=\"1\" class=\"dataframe\">\n",
       "  <thead>\n",
       "    <tr style=\"text-align: right;\">\n",
       "      <th></th>\n",
       "      <th>year</th>\n",
       "      <th>odometer</th>\n",
       "      <th>sellingprice</th>\n",
       "    </tr>\n",
       "  </thead>\n",
       "  <tbody>\n",
       "    <tr>\n",
       "      <th>count</th>\n",
       "      <td>558837.000000</td>\n",
       "      <td>558743.000000</td>\n",
       "      <td>558837.000000</td>\n",
       "    </tr>\n",
       "    <tr>\n",
       "      <th>mean</th>\n",
       "      <td>2010.038927</td>\n",
       "      <td>68320.016670</td>\n",
       "      <td>13611.264979</td>\n",
       "    </tr>\n",
       "    <tr>\n",
       "      <th>std</th>\n",
       "      <td>3.966864</td>\n",
       "      <td>53398.544224</td>\n",
       "      <td>9749.430357</td>\n",
       "    </tr>\n",
       "    <tr>\n",
       "      <th>min</th>\n",
       "      <td>1982.000000</td>\n",
       "      <td>1.000000</td>\n",
       "      <td>1.000000</td>\n",
       "    </tr>\n",
       "    <tr>\n",
       "      <th>25%</th>\n",
       "      <td>2007.000000</td>\n",
       "      <td>28371.000000</td>\n",
       "      <td>6900.000000</td>\n",
       "    </tr>\n",
       "    <tr>\n",
       "      <th>50%</th>\n",
       "      <td>2012.000000</td>\n",
       "      <td>52254.000000</td>\n",
       "      <td>12100.000000</td>\n",
       "    </tr>\n",
       "    <tr>\n",
       "      <th>75%</th>\n",
       "      <td>2013.000000</td>\n",
       "      <td>99109.000000</td>\n",
       "      <td>18200.000000</td>\n",
       "    </tr>\n",
       "    <tr>\n",
       "      <th>max</th>\n",
       "      <td>2015.000000</td>\n",
       "      <td>999999.000000</td>\n",
       "      <td>230000.000000</td>\n",
       "    </tr>\n",
       "  </tbody>\n",
       "</table>\n",
       "</div>\n",
       "      <button class=\"colab-df-convert\" onclick=\"convertToInteractive('df-843b8351-67a8-40e6-8ec2-3fe47fe5cfff')\"\n",
       "              title=\"Convert this dataframe to an interactive table.\"\n",
       "              style=\"display:none;\">\n",
       "        \n",
       "  <svg xmlns=\"http://www.w3.org/2000/svg\" height=\"24px\"viewBox=\"0 0 24 24\"\n",
       "       width=\"24px\">\n",
       "    <path d=\"M0 0h24v24H0V0z\" fill=\"none\"/>\n",
       "    <path d=\"M18.56 5.44l.94 2.06.94-2.06 2.06-.94-2.06-.94-.94-2.06-.94 2.06-2.06.94zm-11 1L8.5 8.5l.94-2.06 2.06-.94-2.06-.94L8.5 2.5l-.94 2.06-2.06.94zm10 10l.94 2.06.94-2.06 2.06-.94-2.06-.94-.94-2.06-.94 2.06-2.06.94z\"/><path d=\"M17.41 7.96l-1.37-1.37c-.4-.4-.92-.59-1.43-.59-.52 0-1.04.2-1.43.59L10.3 9.45l-7.72 7.72c-.78.78-.78 2.05 0 2.83L4 21.41c.39.39.9.59 1.41.59.51 0 1.02-.2 1.41-.59l7.78-7.78 2.81-2.81c.8-.78.8-2.07 0-2.86zM5.41 20L4 18.59l7.72-7.72 1.47 1.35L5.41 20z\"/>\n",
       "  </svg>\n",
       "      </button>\n",
       "      \n",
       "  <style>\n",
       "    .colab-df-container {\n",
       "      display:flex;\n",
       "      flex-wrap:wrap;\n",
       "      gap: 12px;\n",
       "    }\n",
       "\n",
       "    .colab-df-convert {\n",
       "      background-color: #E8F0FE;\n",
       "      border: none;\n",
       "      border-radius: 50%;\n",
       "      cursor: pointer;\n",
       "      display: none;\n",
       "      fill: #1967D2;\n",
       "      height: 32px;\n",
       "      padding: 0 0 0 0;\n",
       "      width: 32px;\n",
       "    }\n",
       "\n",
       "    .colab-df-convert:hover {\n",
       "      background-color: #E2EBFA;\n",
       "      box-shadow: 0px 1px 2px rgba(60, 64, 67, 0.3), 0px 1px 3px 1px rgba(60, 64, 67, 0.15);\n",
       "      fill: #174EA6;\n",
       "    }\n",
       "\n",
       "    [theme=dark] .colab-df-convert {\n",
       "      background-color: #3B4455;\n",
       "      fill: #D2E3FC;\n",
       "    }\n",
       "\n",
       "    [theme=dark] .colab-df-convert:hover {\n",
       "      background-color: #434B5C;\n",
       "      box-shadow: 0px 1px 3px 1px rgba(0, 0, 0, 0.15);\n",
       "      filter: drop-shadow(0px 1px 2px rgba(0, 0, 0, 0.3));\n",
       "      fill: #FFFFFF;\n",
       "    }\n",
       "  </style>\n",
       "\n",
       "      <script>\n",
       "        const buttonEl =\n",
       "          document.querySelector('#df-843b8351-67a8-40e6-8ec2-3fe47fe5cfff button.colab-df-convert');\n",
       "        buttonEl.style.display =\n",
       "          google.colab.kernel.accessAllowed ? 'block' : 'none';\n",
       "\n",
       "        async function convertToInteractive(key) {\n",
       "          const element = document.querySelector('#df-843b8351-67a8-40e6-8ec2-3fe47fe5cfff');\n",
       "          const dataTable =\n",
       "            await google.colab.kernel.invokeFunction('convertToInteractive',\n",
       "                                                     [key], {});\n",
       "          if (!dataTable) return;\n",
       "\n",
       "          const docLinkHtml = 'Like what you see? Visit the ' +\n",
       "            '<a target=\"_blank\" href=https://colab.research.google.com/notebooks/data_table.ipynb>data table notebook</a>'\n",
       "            + ' to learn more about interactive tables.';\n",
       "          element.innerHTML = '';\n",
       "          dataTable['output_type'] = 'display_data';\n",
       "          await google.colab.output.renderOutput(dataTable, element);\n",
       "          const docLink = document.createElement('div');\n",
       "          docLink.innerHTML = docLinkHtml;\n",
       "          element.appendChild(docLink);\n",
       "        }\n",
       "      </script>\n",
       "    </div>\n",
       "  </div>\n",
       "  "
      ],
      "text/plain": [
       "                year       odometer   sellingprice\n",
       "count  558837.000000  558743.000000  558837.000000\n",
       "mean     2010.038927   68320.016670   13611.264979\n",
       "std         3.966864   53398.544224    9749.430357\n",
       "min      1982.000000       1.000000       1.000000\n",
       "25%      2007.000000   28371.000000    6900.000000\n",
       "50%      2012.000000   52254.000000   12100.000000\n",
       "75%      2013.000000   99109.000000   18200.000000\n",
       "max      2015.000000  999999.000000  230000.000000"
      ]
     },
     "execution_count": 14,
     "metadata": {},
     "output_type": "execute_result"
    }
   ],
   "source": [
    "df[nums].describe()"
   ]
  },
  {
   "cell_type": "code",
   "execution_count": null,
   "id": "ylOA35itB5Mr",
   "metadata": {
    "colab": {
     "base_uri": "https://localhost:8080/"
    },
    "id": "ylOA35itB5Mr",
    "outputId": "67a78fb7-ae37-4847-e0c4-2069d16c7f0a"
   },
   "outputs": [
    {
     "name": "stdout",
     "output_type": "stream",
     "text": [
      "<class 'pandas.core.frame.DataFrame'>\n",
      "RangeIndex: 558837 entries, 0 to 558836\n",
      "Data columns (total 11 columns):\n",
      " #   Column        Non-Null Count   Dtype \n",
      "---  ------        --------------   ----- \n",
      " 0   make          548536 non-null  object\n",
      " 1   model         548438 non-null  object\n",
      " 2   body          545642 non-null  object\n",
      " 3   transmission  493484 non-null  object\n",
      " 4   trim          548186 non-null  object\n",
      " 5   vin           558833 non-null  object\n",
      " 6   state         558837 non-null  object\n",
      " 7   color         558088 non-null  object\n",
      " 8   interior      558088 non-null  object\n",
      " 9   seller        558837 non-null  object\n",
      " 10  saledate      558837 non-null  object\n",
      "dtypes: object(11)\n",
      "memory usage: 46.9+ MB\n"
     ]
    }
   ],
   "source": [
    "df[cats].info()"
   ]
  },
  {
   "cell_type": "code",
   "execution_count": null,
   "id": "ccb22f7a-acfd-4ae9-8ba4-8a3f31f5ed69",
   "metadata": {
    "colab": {
     "base_uri": "https://localhost:8080/",
     "height": 271
    },
    "id": "ccb22f7a-acfd-4ae9-8ba4-8a3f31f5ed69",
    "outputId": "e49898ac-2535-4c08-9df5-f87f3d4393c4"
   },
   "outputs": [
    {
     "data": {
      "text/html": [
       "\n",
       "  <div id=\"df-9c587cfa-d08e-4b9c-a281-9622ef654106\">\n",
       "    <div class=\"colab-df-container\">\n",
       "      <div>\n",
       "<style scoped>\n",
       "    .dataframe tbody tr th:only-of-type {\n",
       "        vertical-align: middle;\n",
       "    }\n",
       "\n",
       "    .dataframe tbody tr th {\n",
       "        vertical-align: top;\n",
       "    }\n",
       "\n",
       "    .dataframe thead th {\n",
       "        text-align: right;\n",
       "    }\n",
       "</style>\n",
       "<table border=\"1\" class=\"dataframe\">\n",
       "  <thead>\n",
       "    <tr style=\"text-align: right;\">\n",
       "      <th></th>\n",
       "      <th>make</th>\n",
       "      <th>model</th>\n",
       "      <th>body</th>\n",
       "      <th>transmission</th>\n",
       "      <th>trim</th>\n",
       "      <th>vin</th>\n",
       "      <th>state</th>\n",
       "      <th>color</th>\n",
       "      <th>interior</th>\n",
       "      <th>seller</th>\n",
       "      <th>saledate</th>\n",
       "    </tr>\n",
       "  </thead>\n",
       "  <tbody>\n",
       "    <tr>\n",
       "      <th>count</th>\n",
       "      <td>548536</td>\n",
       "      <td>548438</td>\n",
       "      <td>545642</td>\n",
       "      <td>493484</td>\n",
       "      <td>548186</td>\n",
       "      <td>558833</td>\n",
       "      <td>558837</td>\n",
       "      <td>558088</td>\n",
       "      <td>558088</td>\n",
       "      <td>558837</td>\n",
       "      <td>558837</td>\n",
       "    </tr>\n",
       "    <tr>\n",
       "      <th>unique</th>\n",
       "      <td>96</td>\n",
       "      <td>973</td>\n",
       "      <td>87</td>\n",
       "      <td>4</td>\n",
       "      <td>1966</td>\n",
       "      <td>550297</td>\n",
       "      <td>64</td>\n",
       "      <td>46</td>\n",
       "      <td>17</td>\n",
       "      <td>14266</td>\n",
       "      <td>3766</td>\n",
       "    </tr>\n",
       "    <tr>\n",
       "      <th>top</th>\n",
       "      <td>Ford</td>\n",
       "      <td>Altima</td>\n",
       "      <td>Sedan</td>\n",
       "      <td>automatic</td>\n",
       "      <td>Base</td>\n",
       "      <td>automatic</td>\n",
       "      <td>fl</td>\n",
       "      <td>black</td>\n",
       "      <td>black</td>\n",
       "      <td>nissan-infiniti lt</td>\n",
       "      <td>Tue Feb 10 2015 01:30:00 GMT-0800 (PST)</td>\n",
       "    </tr>\n",
       "    <tr>\n",
       "      <th>freq</th>\n",
       "      <td>93554</td>\n",
       "      <td>19349</td>\n",
       "      <td>199437</td>\n",
       "      <td>475914</td>\n",
       "      <td>55817</td>\n",
       "      <td>22</td>\n",
       "      <td>82945</td>\n",
       "      <td>110970</td>\n",
       "      <td>244329</td>\n",
       "      <td>19693</td>\n",
       "      <td>5334</td>\n",
       "    </tr>\n",
       "  </tbody>\n",
       "</table>\n",
       "</div>\n",
       "      <button class=\"colab-df-convert\" onclick=\"convertToInteractive('df-9c587cfa-d08e-4b9c-a281-9622ef654106')\"\n",
       "              title=\"Convert this dataframe to an interactive table.\"\n",
       "              style=\"display:none;\">\n",
       "        \n",
       "  <svg xmlns=\"http://www.w3.org/2000/svg\" height=\"24px\"viewBox=\"0 0 24 24\"\n",
       "       width=\"24px\">\n",
       "    <path d=\"M0 0h24v24H0V0z\" fill=\"none\"/>\n",
       "    <path d=\"M18.56 5.44l.94 2.06.94-2.06 2.06-.94-2.06-.94-.94-2.06-.94 2.06-2.06.94zm-11 1L8.5 8.5l.94-2.06 2.06-.94-2.06-.94L8.5 2.5l-.94 2.06-2.06.94zm10 10l.94 2.06.94-2.06 2.06-.94-2.06-.94-.94-2.06-.94 2.06-2.06.94z\"/><path d=\"M17.41 7.96l-1.37-1.37c-.4-.4-.92-.59-1.43-.59-.52 0-1.04.2-1.43.59L10.3 9.45l-7.72 7.72c-.78.78-.78 2.05 0 2.83L4 21.41c.39.39.9.59 1.41.59.51 0 1.02-.2 1.41-.59l7.78-7.78 2.81-2.81c.8-.78.8-2.07 0-2.86zM5.41 20L4 18.59l7.72-7.72 1.47 1.35L5.41 20z\"/>\n",
       "  </svg>\n",
       "      </button>\n",
       "      \n",
       "  <style>\n",
       "    .colab-df-container {\n",
       "      display:flex;\n",
       "      flex-wrap:wrap;\n",
       "      gap: 12px;\n",
       "    }\n",
       "\n",
       "    .colab-df-convert {\n",
       "      background-color: #E8F0FE;\n",
       "      border: none;\n",
       "      border-radius: 50%;\n",
       "      cursor: pointer;\n",
       "      display: none;\n",
       "      fill: #1967D2;\n",
       "      height: 32px;\n",
       "      padding: 0 0 0 0;\n",
       "      width: 32px;\n",
       "    }\n",
       "\n",
       "    .colab-df-convert:hover {\n",
       "      background-color: #E2EBFA;\n",
       "      box-shadow: 0px 1px 2px rgba(60, 64, 67, 0.3), 0px 1px 3px 1px rgba(60, 64, 67, 0.15);\n",
       "      fill: #174EA6;\n",
       "    }\n",
       "\n",
       "    [theme=dark] .colab-df-convert {\n",
       "      background-color: #3B4455;\n",
       "      fill: #D2E3FC;\n",
       "    }\n",
       "\n",
       "    [theme=dark] .colab-df-convert:hover {\n",
       "      background-color: #434B5C;\n",
       "      box-shadow: 0px 1px 3px 1px rgba(0, 0, 0, 0.15);\n",
       "      filter: drop-shadow(0px 1px 2px rgba(0, 0, 0, 0.3));\n",
       "      fill: #FFFFFF;\n",
       "    }\n",
       "  </style>\n",
       "\n",
       "      <script>\n",
       "        const buttonEl =\n",
       "          document.querySelector('#df-9c587cfa-d08e-4b9c-a281-9622ef654106 button.colab-df-convert');\n",
       "        buttonEl.style.display =\n",
       "          google.colab.kernel.accessAllowed ? 'block' : 'none';\n",
       "\n",
       "        async function convertToInteractive(key) {\n",
       "          const element = document.querySelector('#df-9c587cfa-d08e-4b9c-a281-9622ef654106');\n",
       "          const dataTable =\n",
       "            await google.colab.kernel.invokeFunction('convertToInteractive',\n",
       "                                                     [key], {});\n",
       "          if (!dataTable) return;\n",
       "\n",
       "          const docLinkHtml = 'Like what you see? Visit the ' +\n",
       "            '<a target=\"_blank\" href=https://colab.research.google.com/notebooks/data_table.ipynb>data table notebook</a>'\n",
       "            + ' to learn more about interactive tables.';\n",
       "          element.innerHTML = '';\n",
       "          dataTable['output_type'] = 'display_data';\n",
       "          await google.colab.output.renderOutput(dataTable, element);\n",
       "          const docLink = document.createElement('div');\n",
       "          docLink.innerHTML = docLinkHtml;\n",
       "          element.appendChild(docLink);\n",
       "        }\n",
       "      </script>\n",
       "    </div>\n",
       "  </div>\n",
       "  "
      ],
      "text/plain": [
       "          make   model    body transmission    trim        vin   state  \\\n",
       "count   548536  548438  545642       493484  548186     558833  558837   \n",
       "unique      96     973      87            4    1966     550297      64   \n",
       "top       Ford  Altima   Sedan    automatic    Base  automatic      fl   \n",
       "freq     93554   19349  199437       475914   55817         22   82945   \n",
       "\n",
       "         color interior              seller  \\\n",
       "count   558088   558088              558837   \n",
       "unique      46       17               14266   \n",
       "top      black    black  nissan-infiniti lt   \n",
       "freq    110970   244329               19693   \n",
       "\n",
       "                                       saledate  \n",
       "count                                    558837  \n",
       "unique                                     3766  \n",
       "top     Tue Feb 10 2015 01:30:00 GMT-0800 (PST)  \n",
       "freq                                       5334  "
      ]
     },
     "execution_count": 24,
     "metadata": {},
     "output_type": "execute_result"
    }
   ],
   "source": [
    "df[cats].describe()"
   ]
  },
  {
   "cell_type": "markdown",
   "id": "1LW8lJuZF9Y2",
   "metadata": {
    "id": "1LW8lJuZF9Y2"
   },
   "source": [
    "Analisis Numericals:\n",
    "- adanya anomali pada nilai minimum sellingprice \n",
    "\n",
    "Analisis Categoricals:\n",
    " - Kolom transmission didominasi oleh mobil dengan transmisi automatic (lebih dari 50%),\n",
    " - Kolom color dan interior didominasi oleh mobil dengan warna exterior dan interior black\n",
    " - Kolom make didominasi oleh mobil dengan merk Ford."
   ]
  },
  {
   "cell_type": "code",
   "execution_count": null,
   "id": "caf53c04-e250-496d-b2eb-8770bbb98122",
   "metadata": {
    "colab": {
     "base_uri": "https://localhost:8080/"
    },
    "id": "caf53c04-e250-496d-b2eb-8770bbb98122",
    "outputId": "72b62754-a944-4447-9352-df9441d80624"
   },
   "outputs": [
    {
     "name": "stdout",
     "output_type": "stream",
     "text": [
      "Value count kolom make:\n",
      "Ford          93554\n",
      "Chevrolet     60197\n",
      "Nissan        53946\n",
      "Toyota        39871\n",
      "Dodge         30710\n",
      "              ...  \n",
      "airstream         1\n",
      "ford tk           1\n",
      "chev truck        1\n",
      "hyundai tk        1\n",
      "Lotus             1\n",
      "Name: make, Length: 96, dtype: int64\n",
      "\n",
      "Value count kolom model:\n",
      "Altima        19349\n",
      "F-150         14479\n",
      "Fusion        12946\n",
      "Camry         12545\n",
      "Escape        11861\n",
      "              ...  \n",
      "rrs               1\n",
      "golf              1\n",
      "g500              1\n",
      "tahoe             1\n",
      "458 Italia        1\n",
      "Name: model, Length: 973, dtype: int64\n",
      "\n",
      "Value count kolom body:\n",
      "Sedan          199437\n",
      "SUV            119292\n",
      "sedan           41906\n",
      "suv             24552\n",
      "Hatchback       21380\n",
      "                ...  \n",
      "cab plus 4          1\n",
      "g37 coupe           1\n",
      "CTS-V Wagon         1\n",
      "Ram Van             1\n",
      "cts wagon           1\n",
      "Name: body, Length: 87, dtype: int64\n",
      "\n",
      "Value count kolom transmission:\n",
      "automatic    475914\n",
      "manual        17544\n",
      "sedan            15\n",
      "Sedan            11\n",
      "Name: transmission, dtype: int64\n",
      "\n",
      "Value count kolom trim:\n",
      "Base               55817\n",
      "SE                 43648\n",
      "LX                 20757\n",
      "Limited            18367\n",
      "LT                 16915\n",
      "                   ...  \n",
      "1500 4x2 ex sle        1\n",
      "3.6l se se             1\n",
      "chevy van base         1\n",
      "4x4 v8 sle             1\n",
      "Power Wagon            1\n",
      "Name: trim, Length: 1966, dtype: int64\n",
      "\n",
      "Value count kolom vin:\n",
      "automatic            22\n",
      "wbanv13588cz57827     5\n",
      "5uxfe43579l274932     4\n",
      "trusc28n241022003     4\n",
      "wddgf56x78f009940     4\n",
      "                     ..\n",
      "1p3ew65g7yv603989     1\n",
      "4t1bf28b1yu016829     1\n",
      "jtdbt1231y0082703     1\n",
      "jtddr32t8y0063746     1\n",
      "1ftfw1et2eke87277     1\n",
      "Name: vin, Length: 550297, dtype: int64\n",
      "\n",
      "Value count kolom state:\n",
      "fl                   82945\n",
      "ca                   73148\n",
      "pa                   53907\n",
      "tx                   45913\n",
      "ga                   34750\n",
      "                     ...  \n",
      "3vwd17aj2fm285365        1\n",
      "3vwd17aj3fm276741        1\n",
      "3vwd17aj2fm258506        1\n",
      "3vwd17aj4fm201708        1\n",
      "3vwd17aj2fm261566        1\n",
      "Name: state, Length: 64, dtype: int64\n",
      "\n",
      "Value count kolom color:\n",
      "black        110970\n",
      "white        106673\n",
      "silver        83389\n",
      "gray          82857\n",
      "blue          51139\n",
      "red           43569\n",
      "—             24685\n",
      "green         11382\n",
      "gold          11342\n",
      "beige          9222\n",
      "burgundy       8972\n",
      "brown          6717\n",
      "orange         2078\n",
      "purple         1561\n",
      "off-white      1449\n",
      "yellow         1285\n",
      "charcoal        479\n",
      "turquoise       236\n",
      "pink             42\n",
      "lime             15\n",
      "9562              1\n",
      "2846              1\n",
      "18561             1\n",
      "18384             1\n",
      "5705              1\n",
      "2817              1\n",
      "6158              1\n",
      "721               1\n",
      "20627             1\n",
      "20379             1\n",
      "9837              1\n",
      "9887              1\n",
      "2172              1\n",
      "339               1\n",
      "6864              1\n",
      "2711              1\n",
      "11034             1\n",
      "16633             1\n",
      "6388              1\n",
      "15719             1\n",
      "12655             1\n",
      "14872             1\n",
      "1167              1\n",
      "9410              1\n",
      "4802              1\n",
      "5001              1\n",
      "Name: color, dtype: int64\n",
      "\n",
      "Value count kolom interior:\n",
      "black        244329\n",
      "gray         178581\n",
      "beige         59758\n",
      "tan           44093\n",
      "—             17077\n",
      "brown          8640\n",
      "red            1363\n",
      "blue           1143\n",
      "silver         1104\n",
      "off-white       480\n",
      "purple          339\n",
      "gold            324\n",
      "white           256\n",
      "green           245\n",
      "burgundy        191\n",
      "orange          145\n",
      "yellow           20\n",
      "Name: interior, dtype: int64\n",
      "\n",
      "Value count kolom seller:\n",
      "nissan-infiniti lt                    19693\n",
      "ford motor credit company,llc         19162\n",
      "the hertz corporation                 18299\n",
      "santander consumer                    15285\n",
      "avis corporation                      12540\n",
      "                                      ...  \n",
      "virginia truck & trailer sales inc        1\n",
      "corporate america fcu                     1\n",
      "carcredit autogroup                       1\n",
      "wissler motors inc                        1\n",
      "i -5 uhlmann rv                           1\n",
      "Name: seller, Length: 14266, dtype: int64\n",
      "\n",
      "Value count kolom saledate:\n",
      "Tue Feb 10 2015 01:30:00 GMT-0800 (PST)    5334\n",
      "Tue Feb 17 2015 01:30:00 GMT-0800 (PST)    5016\n",
      "Tue Jan 27 2015 01:30:00 GMT-0800 (PST)    4902\n",
      "Tue Jan 20 2015 01:30:00 GMT-0800 (PST)    4731\n",
      "Tue Mar 03 2015 01:30:00 GMT-0800 (PST)    4653\n",
      "                                           ... \n",
      "Thu Feb 05 2015 05:10:00 GMT-0800 (PST)       1\n",
      "Thu Jan 02 2014 09:30:00 GMT-0800 (PST)       1\n",
      "Tue Apr 28 2015 05:50:00 GMT-0700 (PDT)       1\n",
      "Wed Jan 21 2015 05:45:00 GMT-0800 (PST)       1\n",
      "Wed Jul 08 2015 09:45:00 GMT-0700 (PDT)       1\n",
      "Name: saledate, Length: 3766, dtype: int64\n",
      "\n"
     ]
    }
   ],
   "source": [
    "for col in cats:\n",
    "    print(f'''Value count kolom {col}:''')\n",
    "    print(df[col].value_counts())\n",
    "    print()"
   ]
  },
  {
   "cell_type": "markdown",
   "id": "2Q45tu90GH9i",
   "metadata": {
    "id": "2Q45tu90GH9i"
   },
   "source": [
    "Pengamatan Descriptive Statistik:\n",
    "- Data terdiri dari 558811 baris dan 16 kolom\n",
    "- Tidak ada issue pada nama dan isi setiap kolom\n",
    "- Tampak beberapa kolom masih memiliki null/missing values kolom make, mode, trim, body, transmission, vin, condition, odometer, color, interior)\n",
    "- Missing values terbesar berada pada kolom transmission sejumlah 65353\n"
   ]
  },
  {
   "cell_type": "markdown",
   "id": "euTT-uLU_zG2",
   "metadata": {
    "id": "euTT-uLU_zG2"
   },
   "source": [
    "## Part 1.2 - Univariate Analysis"
   ]
  },
  {
   "cell_type": "markdown",
   "id": "oR20Lj9zSYlc",
   "metadata": {
    "id": "oR20Lj9zSYlc"
   },
   "source": [
    "### Boxplot"
   ]
  },
  {
   "cell_type": "code",
   "execution_count": null,
   "id": "zJiLS8c-Scb_",
   "metadata": {
    "colab": {
     "base_uri": "https://localhost:8080/",
     "height": 669
    },
    "id": "zJiLS8c-Scb_",
    "outputId": "d28e0bb0-0a83-4a78-97dc-6becbb289e73"
   },
   "outputs": [
    {
     "ename": "TypeError",
     "evalue": "ignored",
     "output_type": "error",
     "traceback": [
      "\u001b[0;31m---------------------------------------------------------------------------\u001b[0m",
      "\u001b[0;31mTypeError\u001b[0m                                 Traceback (most recent call last)",
      "\u001b[0;32m<ipython-input-6-c737951678b9>\u001b[0m in \u001b[0;36m<module>\u001b[0;34m\u001b[0m\n\u001b[1;32m      1\u001b[0m \u001b[0;32mfor\u001b[0m \u001b[0mi\u001b[0m \u001b[0;32min\u001b[0m \u001b[0mrange\u001b[0m\u001b[0;34m(\u001b[0m\u001b[0;36m0\u001b[0m\u001b[0;34m,\u001b[0m \u001b[0mlen\u001b[0m\u001b[0;34m(\u001b[0m\u001b[0mnums\u001b[0m\u001b[0;34m)\u001b[0m\u001b[0;34m)\u001b[0m\u001b[0;34m:\u001b[0m\u001b[0;34m\u001b[0m\u001b[0;34m\u001b[0m\u001b[0m\n\u001b[1;32m      2\u001b[0m     \u001b[0mplt\u001b[0m\u001b[0;34m.\u001b[0m\u001b[0msubplot\u001b[0m\u001b[0;34m(\u001b[0m\u001b[0;36m1\u001b[0m\u001b[0;34m,\u001b[0m \u001b[0mlen\u001b[0m\u001b[0;34m(\u001b[0m\u001b[0mnums\u001b[0m\u001b[0;34m)\u001b[0m\u001b[0;34m,\u001b[0m \u001b[0mi\u001b[0m\u001b[0;34m+\u001b[0m\u001b[0;36m1\u001b[0m\u001b[0;34m)\u001b[0m\u001b[0;34m\u001b[0m\u001b[0;34m\u001b[0m\u001b[0m\n\u001b[0;32m----> 3\u001b[0;31m     \u001b[0msns\u001b[0m\u001b[0;34m.\u001b[0m\u001b[0mboxplot\u001b[0m\u001b[0;34m(\u001b[0m\u001b[0my\u001b[0m\u001b[0;34m=\u001b[0m\u001b[0mdf\u001b[0m\u001b[0;34m[\u001b[0m\u001b[0mnums\u001b[0m\u001b[0;34m[\u001b[0m\u001b[0mi\u001b[0m\u001b[0;34m]\u001b[0m\u001b[0;34m]\u001b[0m\u001b[0;34m,\u001b[0m \u001b[0mcolor\u001b[0m\u001b[0;34m=\u001b[0m\u001b[0;34m'green'\u001b[0m\u001b[0;34m,\u001b[0m \u001b[0morient\u001b[0m\u001b[0;34m=\u001b[0m\u001b[0;34m'v'\u001b[0m\u001b[0;34m)\u001b[0m\u001b[0;34m\u001b[0m\u001b[0;34m\u001b[0m\u001b[0m\n\u001b[0m\u001b[1;32m      4\u001b[0m     \u001b[0mplt\u001b[0m\u001b[0;34m.\u001b[0m\u001b[0mtight_layout\u001b[0m\u001b[0;34m(\u001b[0m\u001b[0;34m)\u001b[0m\u001b[0;34m\u001b[0m\u001b[0;34m\u001b[0m\u001b[0m\n",
      "\u001b[0;32m/usr/local/lib/python3.7/dist-packages/seaborn/_decorators.py\u001b[0m in \u001b[0;36minner_f\u001b[0;34m(*args, **kwargs)\u001b[0m\n\u001b[1;32m     44\u001b[0m             )\n\u001b[1;32m     45\u001b[0m         \u001b[0mkwargs\u001b[0m\u001b[0;34m.\u001b[0m\u001b[0mupdate\u001b[0m\u001b[0;34m(\u001b[0m\u001b[0;34m{\u001b[0m\u001b[0mk\u001b[0m\u001b[0;34m:\u001b[0m \u001b[0marg\u001b[0m \u001b[0;32mfor\u001b[0m \u001b[0mk\u001b[0m\u001b[0;34m,\u001b[0m \u001b[0marg\u001b[0m \u001b[0;32min\u001b[0m \u001b[0mzip\u001b[0m\u001b[0;34m(\u001b[0m\u001b[0msig\u001b[0m\u001b[0;34m.\u001b[0m\u001b[0mparameters\u001b[0m\u001b[0;34m,\u001b[0m \u001b[0margs\u001b[0m\u001b[0;34m)\u001b[0m\u001b[0;34m}\u001b[0m\u001b[0;34m)\u001b[0m\u001b[0;34m\u001b[0m\u001b[0;34m\u001b[0m\u001b[0m\n\u001b[0;32m---> 46\u001b[0;31m         \u001b[0;32mreturn\u001b[0m \u001b[0mf\u001b[0m\u001b[0;34m(\u001b[0m\u001b[0;34m**\u001b[0m\u001b[0mkwargs\u001b[0m\u001b[0;34m)\u001b[0m\u001b[0;34m\u001b[0m\u001b[0;34m\u001b[0m\u001b[0m\n\u001b[0m\u001b[1;32m     47\u001b[0m     \u001b[0;32mreturn\u001b[0m \u001b[0minner_f\u001b[0m\u001b[0;34m\u001b[0m\u001b[0;34m\u001b[0m\u001b[0m\n\u001b[1;32m     48\u001b[0m \u001b[0;34m\u001b[0m\u001b[0m\n",
      "\u001b[0;32m/usr/local/lib/python3.7/dist-packages/seaborn/categorical.py\u001b[0m in \u001b[0;36mboxplot\u001b[0;34m(x, y, hue, data, order, hue_order, orient, color, palette, saturation, width, dodge, fliersize, linewidth, whis, ax, **kwargs)\u001b[0m\n\u001b[1;32m   2243\u001b[0m     plotter = _BoxPlotter(x, y, hue, data, order, hue_order,\n\u001b[1;32m   2244\u001b[0m                           \u001b[0morient\u001b[0m\u001b[0;34m,\u001b[0m \u001b[0mcolor\u001b[0m\u001b[0;34m,\u001b[0m \u001b[0mpalette\u001b[0m\u001b[0;34m,\u001b[0m \u001b[0msaturation\u001b[0m\u001b[0;34m,\u001b[0m\u001b[0;34m\u001b[0m\u001b[0;34m\u001b[0m\u001b[0m\n\u001b[0;32m-> 2245\u001b[0;31m                           width, dodge, fliersize, linewidth)\n\u001b[0m\u001b[1;32m   2246\u001b[0m \u001b[0;34m\u001b[0m\u001b[0m\n\u001b[1;32m   2247\u001b[0m     \u001b[0;32mif\u001b[0m \u001b[0max\u001b[0m \u001b[0;32mis\u001b[0m \u001b[0;32mNone\u001b[0m\u001b[0;34m:\u001b[0m\u001b[0;34m\u001b[0m\u001b[0;34m\u001b[0m\u001b[0m\n",
      "\u001b[0;32m/usr/local/lib/python3.7/dist-packages/seaborn/categorical.py\u001b[0m in \u001b[0;36m__init__\u001b[0;34m(self, x, y, hue, data, order, hue_order, orient, color, palette, saturation, width, dodge, fliersize, linewidth)\u001b[0m\n\u001b[1;32m    404\u001b[0m                  width, dodge, fliersize, linewidth):\n\u001b[1;32m    405\u001b[0m \u001b[0;34m\u001b[0m\u001b[0m\n\u001b[0;32m--> 406\u001b[0;31m         \u001b[0mself\u001b[0m\u001b[0;34m.\u001b[0m\u001b[0mestablish_variables\u001b[0m\u001b[0;34m(\u001b[0m\u001b[0mx\u001b[0m\u001b[0;34m,\u001b[0m \u001b[0my\u001b[0m\u001b[0;34m,\u001b[0m \u001b[0mhue\u001b[0m\u001b[0;34m,\u001b[0m \u001b[0mdata\u001b[0m\u001b[0;34m,\u001b[0m \u001b[0morient\u001b[0m\u001b[0;34m,\u001b[0m \u001b[0morder\u001b[0m\u001b[0;34m,\u001b[0m \u001b[0mhue_order\u001b[0m\u001b[0;34m)\u001b[0m\u001b[0;34m\u001b[0m\u001b[0;34m\u001b[0m\u001b[0m\n\u001b[0m\u001b[1;32m    407\u001b[0m         \u001b[0mself\u001b[0m\u001b[0;34m.\u001b[0m\u001b[0mestablish_colors\u001b[0m\u001b[0;34m(\u001b[0m\u001b[0mcolor\u001b[0m\u001b[0;34m,\u001b[0m \u001b[0mpalette\u001b[0m\u001b[0;34m,\u001b[0m \u001b[0msaturation\u001b[0m\u001b[0;34m)\u001b[0m\u001b[0;34m\u001b[0m\u001b[0;34m\u001b[0m\u001b[0m\n\u001b[1;32m    408\u001b[0m \u001b[0;34m\u001b[0m\u001b[0m\n",
      "\u001b[0;32m/usr/local/lib/python3.7/dist-packages/seaborn/categorical.py\u001b[0m in \u001b[0;36mestablish_variables\u001b[0;34m(self, x, y, hue, data, orient, order, hue_order, units)\u001b[0m\n\u001b[1;32m    155\u001b[0m             \u001b[0;31m# Figure out the plotting orientation\u001b[0m\u001b[0;34m\u001b[0m\u001b[0;34m\u001b[0m\u001b[0;34m\u001b[0m\u001b[0m\n\u001b[1;32m    156\u001b[0m             orient = infer_orient(\n\u001b[0;32m--> 157\u001b[0;31m                 \u001b[0mx\u001b[0m\u001b[0;34m,\u001b[0m \u001b[0my\u001b[0m\u001b[0;34m,\u001b[0m \u001b[0morient\u001b[0m\u001b[0;34m,\u001b[0m \u001b[0mrequire_numeric\u001b[0m\u001b[0;34m=\u001b[0m\u001b[0mself\u001b[0m\u001b[0;34m.\u001b[0m\u001b[0mrequire_numeric\u001b[0m\u001b[0;34m\u001b[0m\u001b[0;34m\u001b[0m\u001b[0m\n\u001b[0m\u001b[1;32m    158\u001b[0m             )\n\u001b[1;32m    159\u001b[0m \u001b[0;34m\u001b[0m\u001b[0m\n",
      "\u001b[0;32m/usr/local/lib/python3.7/dist-packages/seaborn/_core.py\u001b[0m in \u001b[0;36minfer_orient\u001b[0;34m(x, y, orient, require_numeric)\u001b[0m\n\u001b[1;32m   1319\u001b[0m             \u001b[0mwarnings\u001b[0m\u001b[0;34m.\u001b[0m\u001b[0mwarn\u001b[0m\u001b[0;34m(\u001b[0m\u001b[0msingle_var_warning\u001b[0m\u001b[0;34m.\u001b[0m\u001b[0mformat\u001b[0m\u001b[0;34m(\u001b[0m\u001b[0;34m\"Horizontal\"\u001b[0m\u001b[0;34m,\u001b[0m \u001b[0;34m\"y\"\u001b[0m\u001b[0;34m)\u001b[0m\u001b[0;34m)\u001b[0m\u001b[0;34m\u001b[0m\u001b[0;34m\u001b[0m\u001b[0m\n\u001b[1;32m   1320\u001b[0m         \u001b[0;32mif\u001b[0m \u001b[0mrequire_numeric\u001b[0m \u001b[0;32mand\u001b[0m \u001b[0my_type\u001b[0m \u001b[0;34m!=\u001b[0m \u001b[0;34m\"numeric\"\u001b[0m\u001b[0;34m:\u001b[0m\u001b[0;34m\u001b[0m\u001b[0;34m\u001b[0m\u001b[0m\n\u001b[0;32m-> 1321\u001b[0;31m             \u001b[0;32mraise\u001b[0m \u001b[0mTypeError\u001b[0m\u001b[0;34m(\u001b[0m\u001b[0mnonnumeric_dv_error\u001b[0m\u001b[0;34m.\u001b[0m\u001b[0mformat\u001b[0m\u001b[0;34m(\u001b[0m\u001b[0;34m\"Vertical\"\u001b[0m\u001b[0;34m,\u001b[0m \u001b[0;34m\"y\"\u001b[0m\u001b[0;34m)\u001b[0m\u001b[0;34m)\u001b[0m\u001b[0;34m\u001b[0m\u001b[0;34m\u001b[0m\u001b[0m\n\u001b[0m\u001b[1;32m   1322\u001b[0m         \u001b[0;32mreturn\u001b[0m \u001b[0;34m\"v\"\u001b[0m\u001b[0;34m\u001b[0m\u001b[0;34m\u001b[0m\u001b[0m\n\u001b[1;32m   1323\u001b[0m \u001b[0;34m\u001b[0m\u001b[0m\n",
      "\u001b[0;31mTypeError\u001b[0m: Vertical orientation requires numeric `y` variable."
     ]
    },
    {
     "data": {
      "image/png": "[encoded data removed]",
      "text/plain": [
       "<Figure size 432x288 with 2 Axes>"
      ]
     },
     "metadata": {
      "needs_background": "light"
     },
     "output_type": "display_data"
    }
   ],
   "source": [
    "for i in range(0, len(nums)):\n",
    "    plt.subplot(1, len(nums), i+1)\n",
    "    sns.boxplot(y=df[nums[i]], color='green', orient='v')\n",
    "    plt.tight_layout()"
   ]
  },
  {
   "cell_type": "markdown",
   "id": "yMFwBAzCSiPk",
   "metadata": {
    "id": "yMFwBAzCSiPk"
   },
   "source": [
    "Definisikan outlier menggunakan Quantile (IQR)"
   ]
  },
  {
   "cell_type": "code",
   "execution_count": null,
   "id": "6ezk3kazSfTG",
   "metadata": {
    "id": "6ezk3kazSfTG"
   },
   "outputs": [],
   "source": [
    "def detect_outliers(df, x):\n",
    "    Q1 = df[x].quantile(.25)\n",
    "    Q3 = df[x].quantile(.75)\n",
    "    IQR = Q3-Q1\n",
    "    return df[(df[x] < Q1-1.5*IQR) | (df[x] > Q3+1.5*IQR)]"
   ]
  },
  {
   "cell_type": "markdown",
   "id": "-ssVuWcFSzZZ",
   "metadata": {
    "id": "-ssVuWcFSzZZ"
   },
   "source": [
    "#### Detect Outlier Features"
   ]
  },
  {
   "cell_type": "code",
   "execution_count": null,
   "id": "s7dRMkicSfWX",
   "metadata": {
    "id": "s7dRMkicSfWX"
   },
   "outputs": [],
   "source": [
    "out_cond = detect_outliers(df, 'condition').shape[0] \n",
    "print('Jumlah outlier column condition :', out_cond)"
   ]
  },
  {
   "cell_type": "code",
   "execution_count": null,
   "id": "a3xVi3n2S6p-",
   "metadata": {
    "id": "a3xVi3n2S6p-"
   },
   "outputs": [],
   "source": [
    "out_odo = detect_outliers(df, 'odometer').shape[0]\n",
    "print('Jumlah outlier column odometer :', out_odo)"
   ]
  },
  {
   "cell_type": "code",
   "execution_count": null,
   "id": "GkW6_EXtS6tj",
   "metadata": {
    "id": "GkW6_EXtS6tj"
   },
   "outputs": [],
   "source": [
    "out_mmr = detect_outliers(df, 'mmr').shape[0]\n",
    "print('Jumlah outlier column mmr :', out_mmr)"
   ]
  },
  {
   "cell_type": "markdown",
   "id": "iOJhnYOyTFB8",
   "metadata": {
    "id": "iOJhnYOyTFB8"
   },
   "source": [
    "Dari column feature dengan analisa IQR pada plot boxplot dan detect outlier, dilihat bahwa column condition tidak memiliki outlier. Untuk odometer memiliki outlier sebanyakk 10375 dan column mmr memiliki 16315 outlier. "
   ]
  },
  {
   "cell_type": "markdown",
   "id": "X5g51vKNeuY3",
   "metadata": {
    "id": "X5g51vKNeuY3"
   },
   "source": [
    "#### Detect Outlier Target"
   ]
  },
  {
   "cell_type": "code",
   "execution_count": null,
   "id": "uENSwAqQSfZ5",
   "metadata": {
    "id": "uENSwAqQSfZ5"
   },
   "outputs": [],
   "source": [
    "out_sell = detect_outliers(df, 'sellingprice').shape[0]\n",
    "print('Jumlah outlier column sellingprice :', out_sell)"
   ]
  },
  {
   "cell_type": "markdown",
   "id": "SQCattsATIGH",
   "metadata": {
    "id": "SQCattsATIGH"
   },
   "source": [
    "Dari column target dengan analisa IQR pada plot boxplot dan detect outlier, dilihat bahwa column sellingprice memiliki 16354 outlier"
   ]
  },
  {
   "cell_type": "markdown",
   "id": "UWjbMCGVTLWW",
   "metadata": {
    "id": "UWjbMCGVTLWW"
   },
   "source": [
    "### Analisa Boxplot Features dan Target"
   ]
  },
  {
   "cell_type": "markdown",
   "id": "zNMPTJouTSs_",
   "metadata": {
    "id": "zNMPTJouTSs_"
   },
   "source": [
    "Dari gambar boxplot didapat bahwa column condition tidak memiliki outlier dan distribusinya cenderung negative skewed. Untuk column lain yaitu odometer,mmr dan sellingprice banyak outlier yang terletak di nilai yang lebih besar (positive skewed). Serta dari function detect outlier bisa melihat banyaknya outlier. Oleh karena itu pada data preprocessing dan cleaning, bisa dilakukan penghapusan outlier dengan metode quantile IQR maupun menggunakan log transformation untuk mengatasi positive skewed"
   ]
  },
  {
   "cell_type": "markdown",
   "id": "y4yvk30xeEaD",
   "metadata": {
    "id": "y4yvk30xeEaD"
   },
   "source": [
    "### Distribution Plot"
   ]
  },
  {
   "cell_type": "code",
   "execution_count": null,
   "id": "aPyxnQI7eK8a",
   "metadata": {
    "colab": {
     "base_uri": "https://localhost:8080/",
     "height": 696
    },
    "id": "aPyxnQI7eK8a",
    "outputId": "a5051a4f-e978-46d8-b3a4-c15cba1ac61b"
   },
   "outputs": [
    {
     "name": "stderr",
     "output_type": "stream",
     "text": [
      "/usr/local/lib/python3.7/dist-packages/seaborn/distributions.py:2619: FutureWarning: `distplot` is a deprecated function and will be removed in a future version. Please adapt your code to use either `displot` (a figure-level function with similar flexibility) or `histplot` (an axes-level function for histograms).\n",
      "  warnings.warn(msg, FutureWarning)\n",
      "/usr/local/lib/python3.7/dist-packages/seaborn/distributions.py:2619: FutureWarning: `distplot` is a deprecated function and will be removed in a future version. Please adapt your code to use either `displot` (a figure-level function with similar flexibility) or `histplot` (an axes-level function for histograms).\n",
      "  warnings.warn(msg, FutureWarning)\n"
     ]
    },
    {
     "ename": "ValueError",
     "evalue": "ignored",
     "output_type": "error",
     "traceback": [
      "\u001b[0;31m---------------------------------------------------------------------------\u001b[0m",
      "\u001b[0;31mValueError\u001b[0m                                Traceback (most recent call last)",
      "\u001b[0;32m<ipython-input-7-9b7d0584e904>\u001b[0m in \u001b[0;36m<module>\u001b[0;34m\u001b[0m\n\u001b[1;32m      2\u001b[0m \u001b[0;32mfor\u001b[0m \u001b[0mi\u001b[0m \u001b[0;32min\u001b[0m \u001b[0mrange\u001b[0m\u001b[0;34m(\u001b[0m\u001b[0;36m0\u001b[0m\u001b[0;34m,\u001b[0m \u001b[0mlen\u001b[0m\u001b[0;34m(\u001b[0m\u001b[0mnums\u001b[0m\u001b[0;34m)\u001b[0m\u001b[0;34m)\u001b[0m\u001b[0;34m:\u001b[0m\u001b[0;34m\u001b[0m\u001b[0;34m\u001b[0m\u001b[0m\n\u001b[1;32m      3\u001b[0m     \u001b[0mplt\u001b[0m\u001b[0;34m.\u001b[0m\u001b[0msubplot\u001b[0m\u001b[0;34m(\u001b[0m\u001b[0;36m2\u001b[0m\u001b[0;34m,\u001b[0m \u001b[0;36m3\u001b[0m\u001b[0;34m,\u001b[0m \u001b[0mi\u001b[0m\u001b[0;34m+\u001b[0m\u001b[0;36m1\u001b[0m\u001b[0;34m)\u001b[0m\u001b[0;34m\u001b[0m\u001b[0;34m\u001b[0m\u001b[0m\n\u001b[0;32m----> 4\u001b[0;31m     \u001b[0msns\u001b[0m\u001b[0;34m.\u001b[0m\u001b[0mdistplot\u001b[0m\u001b[0;34m(\u001b[0m\u001b[0mdf\u001b[0m\u001b[0;34m[\u001b[0m\u001b[0mnums\u001b[0m\u001b[0;34m[\u001b[0m\u001b[0mi\u001b[0m\u001b[0;34m]\u001b[0m\u001b[0;34m]\u001b[0m\u001b[0;34m,\u001b[0m \u001b[0mcolor\u001b[0m\u001b[0;34m=\u001b[0m\u001b[0;34m'green'\u001b[0m\u001b[0;34m)\u001b[0m\u001b[0;34m\u001b[0m\u001b[0;34m\u001b[0m\u001b[0m\n\u001b[0m\u001b[1;32m      5\u001b[0m     \u001b[0mplt\u001b[0m\u001b[0;34m.\u001b[0m\u001b[0mtight_layout\u001b[0m\u001b[0;34m(\u001b[0m\u001b[0;34m)\u001b[0m\u001b[0;34m\u001b[0m\u001b[0;34m\u001b[0m\u001b[0m\n",
      "\u001b[0;32m/usr/local/lib/python3.7/dist-packages/seaborn/distributions.py\u001b[0m in \u001b[0;36mdistplot\u001b[0;34m(a, bins, hist, kde, rug, fit, hist_kws, kde_kws, rug_kws, fit_kws, color, vertical, norm_hist, axlabel, label, ax, x)\u001b[0m\n\u001b[1;32m   2634\u001b[0m \u001b[0;34m\u001b[0m\u001b[0m\n\u001b[1;32m   2635\u001b[0m     \u001b[0;31m# Make a a 1-d float array\u001b[0m\u001b[0;34m\u001b[0m\u001b[0;34m\u001b[0m\u001b[0;34m\u001b[0m\u001b[0m\n\u001b[0;32m-> 2636\u001b[0;31m     \u001b[0ma\u001b[0m \u001b[0;34m=\u001b[0m \u001b[0mnp\u001b[0m\u001b[0;34m.\u001b[0m\u001b[0masarray\u001b[0m\u001b[0;34m(\u001b[0m\u001b[0ma\u001b[0m\u001b[0;34m,\u001b[0m \u001b[0mfloat\u001b[0m\u001b[0;34m)\u001b[0m\u001b[0;34m\u001b[0m\u001b[0;34m\u001b[0m\u001b[0m\n\u001b[0m\u001b[1;32m   2637\u001b[0m     \u001b[0;32mif\u001b[0m \u001b[0ma\u001b[0m\u001b[0;34m.\u001b[0m\u001b[0mndim\u001b[0m \u001b[0;34m>\u001b[0m \u001b[0;36m1\u001b[0m\u001b[0;34m:\u001b[0m\u001b[0;34m\u001b[0m\u001b[0;34m\u001b[0m\u001b[0m\n\u001b[1;32m   2638\u001b[0m         \u001b[0ma\u001b[0m \u001b[0;34m=\u001b[0m \u001b[0ma\u001b[0m\u001b[0;34m.\u001b[0m\u001b[0msqueeze\u001b[0m\u001b[0;34m(\u001b[0m\u001b[0;34m)\u001b[0m\u001b[0;34m\u001b[0m\u001b[0;34m\u001b[0m\u001b[0m\n",
      "\u001b[0;32m/usr/local/lib/python3.7/dist-packages/pandas/core/series.py\u001b[0m in \u001b[0;36m__array__\u001b[0;34m(self, dtype)\u001b[0m\n\u001b[1;32m    855\u001b[0m               dtype='datetime64[ns]')\n\u001b[1;32m    856\u001b[0m         \"\"\"\n\u001b[0;32m--> 857\u001b[0;31m         \u001b[0;32mreturn\u001b[0m \u001b[0mnp\u001b[0m\u001b[0;34m.\u001b[0m\u001b[0masarray\u001b[0m\u001b[0;34m(\u001b[0m\u001b[0mself\u001b[0m\u001b[0;34m.\u001b[0m\u001b[0m_values\u001b[0m\u001b[0;34m,\u001b[0m \u001b[0mdtype\u001b[0m\u001b[0;34m)\u001b[0m\u001b[0;34m\u001b[0m\u001b[0;34m\u001b[0m\u001b[0m\n\u001b[0m\u001b[1;32m    858\u001b[0m \u001b[0;34m\u001b[0m\u001b[0m\n\u001b[1;32m    859\u001b[0m     \u001b[0;31m# ----------------------------------------------------------------------\u001b[0m\u001b[0;34m\u001b[0m\u001b[0;34m\u001b[0m\u001b[0;34m\u001b[0m\u001b[0m\n",
      "\u001b[0;31mValueError\u001b[0m: could not convert string to float: 'oh'"
     ]
    },
    {
     "data": {
      "image/png": "[encoded data removed]",
      "text/plain": [
       "<Figure size 864x432 with 2 Axes>"
      ]
     },
     "metadata": {
      "needs_background": "light"
     },
     "output_type": "display_data"
    }
   ],
   "source": [
    "plt.figure(figsize=(12, 6))\n",
    "for i in range(0, len(nums)):\n",
    "    plt.subplot(2, 3, i+1)\n",
    "    sns.distplot(df[nums[i]], color='green')\n",
    "    plt.tight_layout()"
   ]
  },
  {
   "cell_type": "markdown",
   "id": "N34ftlL6ewkn",
   "metadata": {
    "id": "N34ftlL6ewkn"
   },
   "source": [
    "### Analisa Distribution Plot"
   ]
  },
  {
   "cell_type": "markdown",
   "id": "kWx_PRpjfB6A",
   "metadata": {
    "id": "kWx_PRpjfB6A"
   },
   "source": [
    "- Dari distribution plot terlihat untuk feature odometer, selling price, serta mmr memiliki distribusi yang positif (positively skewed) dimana nilai outlier cukup jauh ke kanan atau berada di nilai yang besar. sedangkan umumnya data fitur tersebar nilai yang cukup rendah.\n",
    "\n",
    "- Target memiliki kemiringan yang positif dimana nilai outliernya pun berada pada nilai yang besar\n",
    "\n",
    "- fitur condition perlu diperhatikan dikarenakan memiliki skala ordinal pada distribution plot\n",
    "\n",
    "- fitur tahun memiliki distribusi kemiringan negatif, yang dimana data/transaksi terjadi cukup benyak >2010\n",
    "\n"
   ]
  },
  {
   "cell_type": "markdown",
   "id": "KqtajEN6GMbj",
   "metadata": {
    "id": "KqtajEN6GMbj"
   },
   "source": [
    "### Countplot"
   ]
  },
  {
   "cell_type": "code",
   "execution_count": null,
   "id": "2d9bp-JwGW7B",
   "metadata": {
    "colab": {
     "base_uri": "https://localhost:8080/",
     "height": 841
    },
    "id": "2d9bp-JwGW7B",
    "outputId": "8552904e-b73e-4f42-ed16-7150d4895a9e"
   },
   "outputs": [
    {
     "name": "stderr",
     "output_type": "stream",
     "text": [
      "/usr/local/lib/python3.7/dist-packages/seaborn/_decorators.py:43: FutureWarning: Pass the following variable as a keyword arg: x. From version 0.12, the only valid positional argument will be `data`, and passing other arguments without an explicit keyword will result in an error or misinterpretation.\n",
      "  FutureWarning\n",
      "/usr/local/lib/python3.7/dist-packages/seaborn/_decorators.py:43: FutureWarning: Pass the following variable as a keyword arg: x. From version 0.12, the only valid positional argument will be `data`, and passing other arguments without an explicit keyword will result in an error or misinterpretation.\n",
      "  FutureWarning\n",
      "/usr/local/lib/python3.7/dist-packages/seaborn/_decorators.py:43: FutureWarning: Pass the following variable as a keyword arg: x. From version 0.12, the only valid positional argument will be `data`, and passing other arguments without an explicit keyword will result in an error or misinterpretation.\n",
      "  FutureWarning\n",
      "/usr/local/lib/python3.7/dist-packages/seaborn/_decorators.py:43: FutureWarning: Pass the following variable as a keyword arg: x. From version 0.12, the only valid positional argument will be `data`, and passing other arguments without an explicit keyword will result in an error or misinterpretation.\n",
      "  FutureWarning\n",
      "/usr/local/lib/python3.7/dist-packages/seaborn/_decorators.py:43: FutureWarning: Pass the following variable as a keyword arg: x. From version 0.12, the only valid positional argument will be `data`, and passing other arguments without an explicit keyword will result in an error or misinterpretation.\n",
      "  FutureWarning\n"
     ]
    },
    {
     "ename": "ValueError",
     "evalue": "ignored",
     "output_type": "error",
     "traceback": [
      "\u001b[0;31m---------------------------------------------------------------------------\u001b[0m",
      "\u001b[0;31mValueError\u001b[0m                                Traceback (most recent call last)",
      "\u001b[0;32m<ipython-input-28-d55761bd8187>\u001b[0m in \u001b[0;36m<module>\u001b[0;34m\u001b[0m\n\u001b[1;32m      1\u001b[0m \u001b[0;32mfor\u001b[0m \u001b[0mi\u001b[0m \u001b[0;32min\u001b[0m \u001b[0mrange\u001b[0m\u001b[0;34m(\u001b[0m\u001b[0;36m0\u001b[0m\u001b[0;34m,\u001b[0m \u001b[0mlen\u001b[0m\u001b[0;34m(\u001b[0m\u001b[0mcats\u001b[0m\u001b[0;34m)\u001b[0m\u001b[0;34m)\u001b[0m\u001b[0;34m:\u001b[0m\u001b[0;34m\u001b[0m\u001b[0;34m\u001b[0m\u001b[0m\n\u001b[0;32m----> 2\u001b[0;31m     \u001b[0mplt\u001b[0m\u001b[0;34m.\u001b[0m\u001b[0msubplot\u001b[0m\u001b[0;34m(\u001b[0m\u001b[0;36m5\u001b[0m\u001b[0;34m,\u001b[0m\u001b[0;36m1\u001b[0m\u001b[0;34m,\u001b[0m \u001b[0mi\u001b[0m\u001b[0;34m+\u001b[0m\u001b[0;36m1\u001b[0m\u001b[0;34m)\u001b[0m\u001b[0;34m\u001b[0m\u001b[0;34m\u001b[0m\u001b[0m\n\u001b[0m\u001b[1;32m      3\u001b[0m     \u001b[0msns\u001b[0m\u001b[0;34m.\u001b[0m\u001b[0mcountplot\u001b[0m\u001b[0;34m(\u001b[0m\u001b[0mdf\u001b[0m\u001b[0;34m[\u001b[0m\u001b[0mcats\u001b[0m\u001b[0;34m[\u001b[0m\u001b[0mi\u001b[0m\u001b[0;34m]\u001b[0m\u001b[0;34m]\u001b[0m\u001b[0;34m,\u001b[0m \u001b[0mcolor\u001b[0m\u001b[0;34m=\u001b[0m\u001b[0;34m'green'\u001b[0m\u001b[0;34m,\u001b[0m \u001b[0morient\u001b[0m\u001b[0;34m=\u001b[0m\u001b[0;34m'h'\u001b[0m\u001b[0;34m)\u001b[0m\u001b[0;34m\u001b[0m\u001b[0;34m\u001b[0m\u001b[0m\n\u001b[1;32m      4\u001b[0m     \u001b[0mplt\u001b[0m\u001b[0;34m.\u001b[0m\u001b[0mtight_layout\u001b[0m\u001b[0;34m(\u001b[0m\u001b[0;34m)\u001b[0m\u001b[0;34m\u001b[0m\u001b[0;34m\u001b[0m\u001b[0m\n",
      "\u001b[0;32m/usr/local/lib/python3.7/dist-packages/matplotlib/pyplot.py\u001b[0m in \u001b[0;36msubplot\u001b[0;34m(*args, **kwargs)\u001b[0m\n\u001b[1;32m   1028\u001b[0m \u001b[0;34m\u001b[0m\u001b[0m\n\u001b[1;32m   1029\u001b[0m     \u001b[0mfig\u001b[0m \u001b[0;34m=\u001b[0m \u001b[0mgcf\u001b[0m\u001b[0;34m(\u001b[0m\u001b[0;34m)\u001b[0m\u001b[0;34m\u001b[0m\u001b[0;34m\u001b[0m\u001b[0m\n\u001b[0;32m-> 1030\u001b[0;31m     \u001b[0ma\u001b[0m \u001b[0;34m=\u001b[0m \u001b[0mfig\u001b[0m\u001b[0;34m.\u001b[0m\u001b[0madd_subplot\u001b[0m\u001b[0;34m(\u001b[0m\u001b[0;34m*\u001b[0m\u001b[0margs\u001b[0m\u001b[0;34m,\u001b[0m \u001b[0;34m**\u001b[0m\u001b[0mkwargs\u001b[0m\u001b[0;34m)\u001b[0m\u001b[0;34m\u001b[0m\u001b[0;34m\u001b[0m\u001b[0m\n\u001b[0m\u001b[1;32m   1031\u001b[0m     \u001b[0mbbox\u001b[0m \u001b[0;34m=\u001b[0m \u001b[0ma\u001b[0m\u001b[0;34m.\u001b[0m\u001b[0mbbox\u001b[0m\u001b[0;34m\u001b[0m\u001b[0;34m\u001b[0m\u001b[0m\n\u001b[1;32m   1032\u001b[0m     \u001b[0mbyebye\u001b[0m \u001b[0;34m=\u001b[0m \u001b[0;34m[\u001b[0m\u001b[0;34m]\u001b[0m\u001b[0;34m\u001b[0m\u001b[0;34m\u001b[0m\u001b[0m\n",
      "\u001b[0;32m/usr/local/lib/python3.7/dist-packages/matplotlib/figure.py\u001b[0m in \u001b[0;36madd_subplot\u001b[0;34m(self, *args, **kwargs)\u001b[0m\n\u001b[1;32m   1417\u001b[0m                     \u001b[0mself\u001b[0m\u001b[0;34m.\u001b[0m\u001b[0m_axstack\u001b[0m\u001b[0;34m.\u001b[0m\u001b[0mremove\u001b[0m\u001b[0;34m(\u001b[0m\u001b[0max\u001b[0m\u001b[0;34m)\u001b[0m\u001b[0;34m\u001b[0m\u001b[0;34m\u001b[0m\u001b[0m\n\u001b[1;32m   1418\u001b[0m \u001b[0;34m\u001b[0m\u001b[0m\n\u001b[0;32m-> 1419\u001b[0;31m             \u001b[0ma\u001b[0m \u001b[0;34m=\u001b[0m \u001b[0msubplot_class_factory\u001b[0m\u001b[0;34m(\u001b[0m\u001b[0mprojection_class\u001b[0m\u001b[0;34m)\u001b[0m\u001b[0;34m(\u001b[0m\u001b[0mself\u001b[0m\u001b[0;34m,\u001b[0m \u001b[0;34m*\u001b[0m\u001b[0margs\u001b[0m\u001b[0;34m,\u001b[0m \u001b[0;34m**\u001b[0m\u001b[0mkwargs\u001b[0m\u001b[0;34m)\u001b[0m\u001b[0;34m\u001b[0m\u001b[0;34m\u001b[0m\u001b[0m\n\u001b[0m\u001b[1;32m   1420\u001b[0m \u001b[0;34m\u001b[0m\u001b[0m\n\u001b[1;32m   1421\u001b[0m         \u001b[0;32mreturn\u001b[0m \u001b[0mself\u001b[0m\u001b[0;34m.\u001b[0m\u001b[0m_add_axes_internal\u001b[0m\u001b[0;34m(\u001b[0m\u001b[0mkey\u001b[0m\u001b[0;34m,\u001b[0m \u001b[0ma\u001b[0m\u001b[0;34m)\u001b[0m\u001b[0;34m\u001b[0m\u001b[0;34m\u001b[0m\u001b[0m\n",
      "\u001b[0;32m/usr/local/lib/python3.7/dist-packages/matplotlib/axes/_subplots.py\u001b[0m in \u001b[0;36m__init__\u001b[0;34m(self, fig, *args, **kwargs)\u001b[0m\n\u001b[1;32m     64\u001b[0m                 \u001b[0;32mif\u001b[0m \u001b[0mnum\u001b[0m \u001b[0;34m<\u001b[0m \u001b[0;36m1\u001b[0m \u001b[0;32mor\u001b[0m \u001b[0mnum\u001b[0m \u001b[0;34m>\u001b[0m \u001b[0mrows\u001b[0m\u001b[0;34m*\u001b[0m\u001b[0mcols\u001b[0m\u001b[0;34m:\u001b[0m\u001b[0;34m\u001b[0m\u001b[0;34m\u001b[0m\u001b[0m\n\u001b[1;32m     65\u001b[0m                     raise ValueError(\n\u001b[0;32m---> 66\u001b[0;31m                         f\"num must be 1 <= num <= {rows*cols}, not {num}\")\n\u001b[0m\u001b[1;32m     67\u001b[0m                 self._subplotspec = GridSpec(\n\u001b[1;32m     68\u001b[0m                         rows, cols, figure=self.figure)[int(num) - 1]\n",
      "\u001b[0;31mValueError\u001b[0m: num must be 1 <= num <= 5, not 6"
     ]
    },
    {
     "data": {
      "image/png": "[encoded data removed]",
      "text/plain": [
       "<Figure size 432x288 with 5 Axes>"
      ]
     },
     "metadata": {
      "needs_background": "light"
     },
     "output_type": "display_data"
    }
   ],
   "source": [
    "for i in range(0, len(cats)):\n",
    "    plt.subplot(5,1, i+1)\n",
    "    sns.countplot(df[cats[i]], color='green', orient='h')\n",
    "    plt.tight_layout()"
   ]
  },
  {
   "cell_type": "markdown",
   "id": "9cuJ_xKeGjj_",
   "metadata": {
    "id": "9cuJ_xKeGjj_"
   },
   "source": [
    "###Analisa Countplot Features "
   ]
  },
  {
   "cell_type": "markdown",
   "id": "jXZSPp1IG5KY",
   "metadata": {
    "id": "jXZSPp1IG5KY"
   },
   "source": [
    "Dari countplot dapat terlihat,pada beberapa feature seperti 'make', 'model', 'trim', 'body', 'color', 'interior'  'vin', 'state', terlihat sangat banyak sekali kategori, ada kategori yang mendominasi dan ada yang jumlahnya sangat jauh lebih sedikit. Kategori yang terlalu banyak dapat menurunkan performance komputasi machine learning. Kategori yang jumlah nya sangat lebih sedikit ini dapat dimasukkan ke kategori baru yaitu 'other' misalnya."
   ]
  },
  {
   "cell_type": "markdown",
   "id": "01aebb9d-cd6e-46c2-b3d7-2f1687f67ab4",
   "metadata": {
    "id": "01aebb9d-cd6e-46c2-b3d7-2f1687f67ab4"
   },
   "source": [
    "## Check Duplicate"
   ]
  },
  {
   "cell_type": "code",
   "execution_count": null,
   "id": "1d165476-e010-4abe-b298-b07a74bd2442",
   "metadata": {
    "id": "1d165476-e010-4abe-b298-b07a74bd2442",
    "outputId": "ad646bae-bbfc-46d0-a707-f4bee9a3d354"
   },
   "outputs": [
    {
     "data": {
      "text/plain": [
       "0"
      ]
     },
     "execution_count": 10,
     "metadata": {},
     "output_type": "execute_result"
    }
   ],
   "source": [
    "#check duplicate\n",
    "df.duplicated().sum()"
   ]
  },
  {
   "cell_type": "markdown",
   "id": "08f8212f-c792-4ebf-ac3f-669905e95be1",
   "metadata": {
    "id": "08f8212f-c792-4ebf-ac3f-669905e95be1"
   },
   "source": [
    "## Missing Value"
   ]
  },
  {
   "cell_type": "code",
   "execution_count": null,
   "id": "dbbf5b93-8e14-4561-a120-91ef80cfb20d",
   "metadata": {
    "colab": {
     "base_uri": "https://localhost:8080/",
     "height": 166
    },
    "id": "dbbf5b93-8e14-4561-a120-91ef80cfb20d",
    "outputId": "7a82f86b-38ae-4f46-bfba-1c5d4f8c3c77"
   },
   "outputs": [
    {
     "ename": "NameError",
     "evalue": "ignored",
     "output_type": "error",
     "traceback": [
      "\u001b[0;31m---------------------------------------------------------------------------\u001b[0m",
      "\u001b[0;31mNameError\u001b[0m                                 Traceback (most recent call last)",
      "\u001b[0;32m<ipython-input-18-8584e6fccf2d>\u001b[0m in \u001b[0;36m<module>\u001b[0;34m\u001b[0m\n\u001b[0;32m----> 1\u001b[0;31m \u001b[0mdf\u001b[0m\u001b[0;34m.\u001b[0m\u001b[0misna\u001b[0m\u001b[0;34m(\u001b[0m\u001b[0;34m)\u001b[0m\u001b[0;34m.\u001b[0m\u001b[0msum\u001b[0m\u001b[0;34m(\u001b[0m\u001b[0;34m)\u001b[0m\u001b[0;34m.\u001b[0m\u001b[0msort_values\u001b[0m\u001b[0;34m(\u001b[0m\u001b[0mascending\u001b[0m\u001b[0;34m=\u001b[0m\u001b[0;32mFalse\u001b[0m\u001b[0;34m)\u001b[0m\u001b[0;34m\u001b[0m\u001b[0;34m\u001b[0m\u001b[0m\n\u001b[0m",
      "\u001b[0;31mNameError\u001b[0m: name 'df' is not defined"
     ]
    }
   ],
   "source": [
    "df.isna().sum().sort_values(ascending=False)"
   ]
  },
  {
   "cell_type": "code",
   "execution_count": null,
   "id": "b1287240-86fe-4b39-a1ee-84c16dd51940",
   "metadata": {
    "colab": {
     "base_uri": "https://localhost:8080/",
     "height": 201
    },
    "id": "b1287240-86fe-4b39-a1ee-84c16dd51940",
    "outputId": "dcb909cc-1741-439f-90a4-ccfe53674b9f"
   },
   "outputs": [
    {
     "ename": "NameError",
     "evalue": "ignored",
     "output_type": "error",
     "traceback": [
      "\u001b[0;31m---------------------------------------------------------------------------\u001b[0m",
      "\u001b[0;31mNameError\u001b[0m                                 Traceback (most recent call last)",
      "\u001b[0;32m<ipython-input-20-195031d012bc>\u001b[0m in \u001b[0;36m<module>\u001b[0;34m\u001b[0m\n\u001b[1;32m      1\u001b[0m \u001b[0mplt\u001b[0m\u001b[0;34m.\u001b[0m\u001b[0mfigure\u001b[0m\u001b[0;34m(\u001b[0m\u001b[0mfigsize\u001b[0m\u001b[0;34m=\u001b[0m\u001b[0;34m(\u001b[0m\u001b[0;36m15\u001b[0m\u001b[0;34m,\u001b[0m \u001b[0;36m15\u001b[0m\u001b[0;34m)\u001b[0m\u001b[0;34m)\u001b[0m\u001b[0;34m\u001b[0m\u001b[0;34m\u001b[0m\u001b[0m\n\u001b[0;32m----> 2\u001b[0;31m \u001b[0msns\u001b[0m\u001b[0;34m.\u001b[0m\u001b[0mpairplot\u001b[0m\u001b[0;34m(\u001b[0m\u001b[0mdf\u001b[0m\u001b[0;34m,\u001b[0m \u001b[0mdiag_kind\u001b[0m\u001b[0;34m=\u001b[0m\u001b[0;34m'kde'\u001b[0m\u001b[0;34m)\u001b[0m\u001b[0;34m\u001b[0m\u001b[0;34m\u001b[0m\u001b[0m\n\u001b[0m",
      "\u001b[0;31mNameError\u001b[0m: name 'df' is not defined"
     ]
    },
    {
     "data": {
      "text/plain": [
       "<Figure size 1080x1080 with 0 Axes>"
      ]
     },
     "metadata": {},
     "output_type": "display_data"
    }
   ],
   "source": [
    "plt.figure(figsize=(15, 15))\n",
    "sns.pairplot(df, diag_kind='kde')"
   ]
  },
  {
   "cell_type": "markdown",
   "id": "EB-olkLgFgqL",
   "metadata": {
    "id": "EB-olkLgFgqL"
   },
   "source": [
    "#Part 1.3 - Multivariate Analysis"
   ]
  },
  {
   "cell_type": "code",
   "execution_count": null,
   "id": "QmEauuQGF5jJ",
   "metadata": {
    "colab": {
     "base_uri": "https://localhost:8080/",
     "height": 183
    },
    "id": "QmEauuQGF5jJ",
    "outputId": "7e40339d-4e1c-470c-abea-6f00bde9d4fb"
   },
   "outputs": [
    {
     "ename": "NameError",
     "evalue": "ignored",
     "output_type": "error",
     "traceback": [
      "\u001b[0;31m---------------------------------------------------------------------------\u001b[0m",
      "\u001b[0;31mNameError\u001b[0m                                 Traceback (most recent call last)",
      "\u001b[0;32m<ipython-input-1-7d5195e2bf4d>\u001b[0m in \u001b[0;36m<module>\u001b[0;34m\u001b[0m\n\u001b[0;32m----> 1\u001b[0;31m \u001b[0mcorr\u001b[0m\u001b[0;34m=\u001b[0m\u001b[0mdf\u001b[0m\u001b[0;34m.\u001b[0m\u001b[0mcorr\u001b[0m\u001b[0;34m(\u001b[0m\u001b[0;34m)\u001b[0m\u001b[0;34m\u001b[0m\u001b[0;34m\u001b[0m\u001b[0m\n\u001b[0m\u001b[1;32m      2\u001b[0m \u001b[0mcorr\u001b[0m\u001b[0;34m\u001b[0m\u001b[0;34m\u001b[0m\u001b[0m\n",
      "\u001b[0;31mNameError\u001b[0m: name 'df' is not defined"
     ]
    }
   ],
   "source": [
    "corr=df.corr()\n",
    "corr"
   ]
  },
  {
   "cell_type": "markdown",
   "id": "gQqKe33aGGSl",
   "metadata": {
    "id": "gQqKe33aGGSl"
   },
   "source": [
    "### Correlation Heatmap"
   ]
  },
  {
   "cell_type": "code",
   "execution_count": null,
   "id": "yrO3YmcOGABA",
   "metadata": {
    "colab": {
     "base_uri": "https://localhost:8080/",
     "height": 235
    },
    "id": "yrO3YmcOGABA",
    "outputId": "05230cb3-8c09-4839-edd9-798c8f3c8b80"
   },
   "outputs": [
    {
     "ename": "NameError",
     "evalue": "ignored",
     "output_type": "error",
     "traceback": [
      "\u001b[0;31m---------------------------------------------------------------------------\u001b[0m",
      "\u001b[0;31mNameError\u001b[0m                                 Traceback (most recent call last)",
      "\u001b[0;32m<ipython-input-2-8af40c99ccba>\u001b[0m in \u001b[0;36m<module>\u001b[0;34m\u001b[0m\n\u001b[1;32m      1\u001b[0m \u001b[0;31m# Correlation Heatmap\u001b[0m\u001b[0;34m\u001b[0m\u001b[0;34m\u001b[0m\u001b[0;34m\u001b[0m\u001b[0m\n\u001b[0;32m----> 2\u001b[0;31m \u001b[0mmask\u001b[0m \u001b[0;34m=\u001b[0m \u001b[0mnp\u001b[0m\u001b[0;34m.\u001b[0m\u001b[0mtriu\u001b[0m\u001b[0;34m(\u001b[0m\u001b[0mnp\u001b[0m\u001b[0;34m.\u001b[0m\u001b[0mones_like\u001b[0m\u001b[0;34m(\u001b[0m\u001b[0mcorr\u001b[0m\u001b[0;34m,\u001b[0m \u001b[0mdtype\u001b[0m\u001b[0;34m=\u001b[0m\u001b[0mbool\u001b[0m\u001b[0;34m)\u001b[0m\u001b[0;34m)\u001b[0m\u001b[0;31m# Generate a mask for upper traingle\u001b[0m\u001b[0;34m\u001b[0m\u001b[0;34m\u001b[0m\u001b[0m\n\u001b[0m\u001b[1;32m      3\u001b[0m \u001b[0mplt\u001b[0m\u001b[0;34m.\u001b[0m\u001b[0mfigure\u001b[0m\u001b[0;34m(\u001b[0m\u001b[0mfigsize\u001b[0m\u001b[0;34m=\u001b[0m\u001b[0;34m(\u001b[0m\u001b[0;36m10\u001b[0m\u001b[0;34m,\u001b[0m\u001b[0;36m7\u001b[0m\u001b[0;34m)\u001b[0m\u001b[0;34m)\u001b[0m\u001b[0;34m\u001b[0m\u001b[0;34m\u001b[0m\u001b[0m\n\u001b[1;32m      4\u001b[0m \u001b[0mcmap\u001b[0m \u001b[0;34m=\u001b[0m \u001b[0msns\u001b[0m\u001b[0;34m.\u001b[0m\u001b[0mdiverging_palette\u001b[0m\u001b[0;34m(\u001b[0m\u001b[0;36m230\u001b[0m\u001b[0;34m,\u001b[0m \u001b[0;36m20\u001b[0m\u001b[0;34m,\u001b[0m \u001b[0mas_cmap\u001b[0m\u001b[0;34m=\u001b[0m\u001b[0;32mTrue\u001b[0m\u001b[0;34m)\u001b[0m\u001b[0;34m\u001b[0m\u001b[0;34m\u001b[0m\u001b[0m\n\u001b[1;32m      5\u001b[0m \u001b[0msns\u001b[0m\u001b[0;34m.\u001b[0m\u001b[0mheatmap\u001b[0m\u001b[0;34m(\u001b[0m\u001b[0mdf\u001b[0m\u001b[0;34m.\u001b[0m\u001b[0mcorr\u001b[0m\u001b[0;34m(\u001b[0m\u001b[0;34m)\u001b[0m\u001b[0;34m,\u001b[0m \u001b[0mmask\u001b[0m\u001b[0;34m=\u001b[0m\u001b[0mmask\u001b[0m\u001b[0;34m,\u001b[0m \u001b[0mannot\u001b[0m\u001b[0;34m=\u001b[0m\u001b[0;32mTrue\u001b[0m\u001b[0;34m,\u001b[0m \u001b[0mcmap\u001b[0m\u001b[0;34m=\u001b[0m\u001b[0mcmap\u001b[0m\u001b[0;34m,\u001b[0m\u001b[0mannot_kws\u001b[0m\u001b[0;34m=\u001b[0m\u001b[0;34m{\u001b[0m\u001b[0;34m'size'\u001b[0m\u001b[0;34m:\u001b[0m\u001b[0;36m14\u001b[0m\u001b[0;34m}\u001b[0m\u001b[0;34m)\u001b[0m\u001b[0;34m\u001b[0m\u001b[0;34m\u001b[0m\u001b[0m\n",
      "\u001b[0;31mNameError\u001b[0m: name 'np' is not defined"
     ]
    }
   ],
   "source": [
    "# Correlation Heatmap \n",
    "mask = np.triu(np.ones_like(corr, dtype=bool))# Generate a mask for upper traingle\n",
    "plt.figure(figsize=(10,7))\n",
    "cmap = sns.diverging_palette(230, 20, as_cmap=True)\n",
    "sns.heatmap(df.corr(), mask=mask, annot=True, cmap=cmap,annot_kws={'size':14})\n",
    "plt.title(\"Correlation Heatmap\", fontsize =24)\n",
    "plt.xticks(fontsize=12)\n",
    "plt.yticks(fontsize=12)\n",
    "plt.show()"
   ]
  },
  {
   "cell_type": "markdown",
   "id": "5hX-AOOaHqtR",
   "metadata": {
    "id": "5hX-AOOaHqtR"
   },
   "source": [
    "Dari Correlation Heatmap diatas diperoleh beberapa informasi berikut :\n",
    "\n",
    "*   Target sellingprice dan feature mmr memiliki korelasi positif yang sangat kuat.\n",
    "*   Target juga memiliki korelasi yang cukup kuat dengan beberapa feature independent lainnya (year, condition, odometer)\n",
    "*   Feature odometer dan year memiliki korelasi negatif yang sangat kuat. Secara umum nilai koefisien korelasi pearson yang lebih besar dari 0,7 menunjukkan adanya multi-collinearity (ada kemungkinan kedua features tersebut redundan dan saling mempengaruhi secara terbalik terhadap variabel lain)."
   ]
  },
  {
   "cell_type": "markdown",
   "id": "nk2A-543GpI0",
   "metadata": {
    "id": "nk2A-543GpI0"
   },
   "source": [
    "### Pair Plots"
   ]
  },
  {
   "cell_type": "code",
   "execution_count": null,
   "id": "9VIxdp7oGtA4",
   "metadata": {
    "id": "9VIxdp7oGtA4"
   },
   "outputs": [],
   "source": [
    "plt.figure(figsize=(10,10))\n",
    "sns.pairplot(df, diag_kind='kde')"
   ]
  },
  {
   "cell_type": "markdown",
   "id": "4CV8B2aJGu0q",
   "metadata": {
    "id": "4CV8B2aJGu0q"
   },
   "source": [
    "Dari pair plot diatas terlihat bahwa :\n",
    "\n",
    "*   mahal, sebaliknya semakin rendah condition maka harga akan semakin murah.\n",
    "*   Semakin tinggi odometer maka harga akan semakin rendah, sebaliknya jika odometer rendah maka sellingprice akan tinggi.\n",
    "\n",
    "*   Target sellingprice memiliki korelasi positif linear dengan feature mmr. Semakin tinggi nilai mmr maka akan semakin tinggi nilai sellingprice."
   ]
  },
  {
   "cell_type": "markdown",
   "id": "mio6SvpJG-IW",
   "metadata": {
    "id": "mio6SvpJG-IW"
   },
   "source": [
    "# Part 1.4 - Business Insight"
   ]
  },
  {
   "cell_type": "markdown",
   "id": "T3cioB2cHE36",
   "metadata": {
    "id": "T3cioB2cHE36"
   },
   "source": [
    "### Top 10 Mobil yang laku terjual berdasarkan brand"
   ]
  },
  {
   "cell_type": "code",
   "execution_count": null,
   "id": "ue2l5JygHH6X",
   "metadata": {
    "id": "ue2l5JygHH6X"
   },
   "outputs": [],
   "source": [
    "df['make'].value_counts().iloc[:10]"
   ]
  },
  {
   "cell_type": "code",
   "execution_count": null,
   "id": "fndkJ7vfHNdR",
   "metadata": {
    "id": "fndkJ7vfHNdR"
   },
   "outputs": [],
   "source": [
    "plt.figure(figsize = (12,5), dpi=100)\n",
    "sns.countplot(df['make'], order=df['make'].value_counts().index[:10])\n",
    "plt.title('Top makes')\n",
    "plt.ylabel(\"Count\")\n",
    "plt.show()"
   ]
  },
  {
   "cell_type": "markdown",
   "id": "uPs-fGW3IB04",
   "metadata": {
    "id": "uPs-fGW3IB04"
   },
   "source": [
    "### Top 10 model yang laku terjual"
   ]
  },
  {
   "cell_type": "code",
   "execution_count": null,
   "id": "Bi1KmC_xIEky",
   "metadata": {
    "id": "Bi1KmC_xIEky"
   },
   "outputs": [],
   "source": [
    "df['model'].value_counts().iloc[:10]"
   ]
  },
  {
   "cell_type": "code",
   "execution_count": null,
   "id": "m06A3GvGIGQK",
   "metadata": {
    "id": "m06A3GvGIGQK"
   },
   "outputs": [],
   "source": [
    "plt.figure(figsize = (12,5), dpi=100)\n",
    "sns.countplot(df['model'], order=df['model'].value_counts().index[:10])\n",
    "plt.title('Top Sold Model')\n",
    "plt.ylabel(\"Count\")\n",
    "plt.show()"
   ]
  },
  {
   "cell_type": "markdown",
   "id": "qagfHwC3IJSp",
   "metadata": {
    "id": "qagfHwC3IJSp"
   },
   "source": [
    "### Top 10 Tipe/jenis mobil yang laku terjual"
   ]
  },
  {
   "cell_type": "code",
   "execution_count": null,
   "id": "YMQzQFRHIMHe",
   "metadata": {
    "id": "YMQzQFRHIMHe"
   },
   "outputs": [],
   "source": [
    "df['body'].value_counts().iloc[:10]"
   ]
  },
  {
   "cell_type": "code",
   "execution_count": null,
   "id": "my11XecqINrV",
   "metadata": {
    "id": "my11XecqINrV"
   },
   "outputs": [],
   "source": [
    "plt.figure(figsize = (12,5), dpi=100)\n",
    "sns.countplot(df['body'], order=df['body'].value_counts().index[:10])\n",
    "plt.title('Top Sold Body')\n",
    "plt.ylabel(\"Count\")\n",
    "plt.show()"
   ]
  },
  {
   "cell_type": "markdown",
   "id": "X8QgClX-IPpO",
   "metadata": {
    "id": "X8QgClX-IPpO"
   },
   "source": [
    "### Top 10 state/wilayah dengan pembelian mobil terbanyak"
   ]
  },
  {
   "cell_type": "code",
   "execution_count": null,
   "id": "uwC08nkgIS0w",
   "metadata": {
    "id": "uwC08nkgIS0w"
   },
   "outputs": [],
   "source": [
    "df['state'].value_counts().iloc[:10]"
   ]
  },
  {
   "cell_type": "code",
   "execution_count": null,
   "id": "g51CCT40IUpb",
   "metadata": {
    "id": "g51CCT40IUpb"
   },
   "outputs": [],
   "source": [
    "plt.figure(figsize = (12,5), dpi=100)\n",
    "sns.countplot(df['state'], order=df['state'].value_counts().index[:10])\n",
    "plt.title('Top Sold State')\n",
    "plt.ylabel(\"Count\")\n",
    "plt.show()"
   ]
  },
  {
   "cell_type": "markdown",
   "id": "jD_rXHQDIeIE",
   "metadata": {
    "id": "jD_rXHQDIeIE"
   },
   "source": [
    "### Transmisi yang lebih laku terjual"
   ]
  },
  {
   "cell_type": "code",
   "execution_count": null,
   "id": "iYm5xWg7IgII",
   "metadata": {
    "id": "iYm5xWg7IgII"
   },
   "outputs": [],
   "source": [
    "sns.countplot(x = 'transmission', data = df)\n",
    "plt.title('Transmission', fontsize = 16, fontweight='bold');"
   ]
  },
  {
   "cell_type": "code",
   "execution_count": null,
   "id": "9wsHbePgIvZe",
   "metadata": {
    "id": "9wsHbePgIvZe"
   },
   "outputs": [],
   "source": [
    "df['transmission'].value_counts().plot.pie(explode=[0.1, 0.1], autopct='%.1f%%', figsize=(6,6),fontsize=12)\n",
    "plt.title('Transmission',fontsize=16, fontweight='bold')\n",
    "plt.ylabel(None)\n",
    "plt.show()"
   ]
  },
  {
   "cell_type": "markdown",
   "id": "JGQDClTrIwTl",
   "metadata": {
    "id": "JGQDClTrIwTl"
   },
   "source": []
  },
  {
   "cell_type": "markdown",
   "id": "fcorzRpKI4h3",
   "metadata": {
    "id": "fcorzRpKI4h3"
   },
   "source": [
    "### Sebaran unit yang laku terjual sesuai kondisi"
   ]
  },
  {
   "cell_type": "code",
   "execution_count": null,
   "id": "8yOmf-I2I9U8",
   "metadata": {
    "id": "8yOmf-I2I9U8"
   },
   "outputs": [],
   "source": [
    "plt.hist(df['condition'],bins=50)\n",
    "plt.title('test')\n",
    "plt.xlabel('condition')\n",
    "plt.ylabel('count')\n",
    "plt.show()"
   ]
  },
  {
   "cell_type": "code",
   "execution_count": null,
   "id": "fkxzRYG8JDw2",
   "metadata": {
    "id": "fkxzRYG8JDw2"
   },
   "outputs": [],
   "source": [
    "plt.figure(figsize=(20,10))\n",
    "sns.scatterplot(x='condition',y='sellingprice',data=df)\n",
    "plt.title('Condition Car and Selling Price',fontsize=16, fontweight='bold')\n",
    "plt.xlabel('Condition',fontsize=12)\n",
    "plt.ylabel('Selling Price', fontsize=12)\n",
    "\n",
    "plt.show()"
   ]
  },
  {
   "cell_type": "markdown",
   "id": "sZUmMogSKMFE",
   "metadata": {
    "id": "sZUmMogSKMFE"
   },
   "source": [
    "### Summary Business Insight"
   ]
  },
  {
   "cell_type": "markdown",
   "id": "pWKxGUl1KQ-i",
   "metadata": {
    "id": "pWKxGUl1KQ-i"
   },
   "source": [
    "Berdasarkan dataset yang kami analisa, kami dapati kondisi sebagai berikut:\n",
    "\n",
    "\n",
    "*   Brand Ford, Chevrolet & nissan merupakan brand yang laku terjual dan banyak diminati di amerika\n",
    "Dealer dapat menyusun komposisi stok unit sesuai unit yang diminati masyarakat\n",
    "\n",
    "*   Preferensi tipe mobil berdasarkan mobil yang terjual adalah tipe sedan dan SUV.\n",
    "Dealer dapat mempriotitaskan untuk membeli varian sedan & suv karena banyak diminati\n",
    "\n",
    "*   Unit yang laku terjual dan banyak diminati adalah unit dengan transmisi automatic.\n",
    "Dealer dapat membeli unit stok dengan proporsi terbanyak adalah transmisi automatic \n",
    "\n",
    "*  Semakin baik kondisi mobil (rating diatas 3.5) maka harga belinya juga semakin tinggi sementara unit dengan kondisi buruk banyak diminati karna harga lebih murah.\n",
    "Dealer dapat membeli unit dengan kualitas kondisi dibawah 3.5 untuk kemudian diperbaiki sebelum dijual dengan harga yang lebih baik untuk mendapatkan keuntungan yang lebih baik\n",
    "\n"
   ]
  },
  {
   "cell_type": "code",
   "execution_count": null,
   "id": "8PqxAE7CMdRU",
   "metadata": {
    "id": "8PqxAE7CMdRU"
   },
   "outputs": [],
   "source": []
  }
 ],
 "metadata": {
  "colab": {
   "collapsed_sections": [],
   "provenance": [],
   "toc_visible": true
  },
  "kernelspec": {
   "display_name": "Python 3 (ipykernel)",
   "language": "python",
   "name": "python3"
  },
  "language_info": {
   "codemirror_mode": {
    "name": "ipython",
    "version": 3
   },
   "file_extension": ".py",
   "mimetype": "text/x-python",
   "name": "python",
   "nbconvert_exporter": "python",
   "pygments_lexer": "ipython3",
   "version": "3.9.12"
  }
 },
 "nbformat": 4,
 "nbformat_minor": 5
}
